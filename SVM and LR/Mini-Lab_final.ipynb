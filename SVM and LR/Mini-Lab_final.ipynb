{
  "cells": [
    {
      "cell_type": "markdown",
      "metadata": {
        "id": "view-in-github",
        "colab_type": "text"
      },
      "source": [
        "<a href=\"https://colab.research.google.com/github/taddbackus/CaseStudy2DDS/blob/main/SVM%20and%20LR/Mini-Lab_final.ipynb\" target=\"_parent\"><img src=\"https://colab.research.google.com/assets/colab-badge.svg\" alt=\"Open In Colab\"/></a>"
      ]
    },
    {
      "cell_type": "markdown",
      "source": [
        "Contributors\n",
        "* Tadd Backus\n",
        "* Kendall Scott\n",
        "* Austin Webb\n",
        "* Milan Patel\n"
      ],
      "metadata": {
        "id": "e6TGIIukk6c-"
      },
      "id": "e6TGIIukk6c-"
    },
    {
      "cell_type": "code",
      "source": [
        "from IPython.display import HTML\n",
        "HTML('''<script>\n",
        "code_show_err=false; \n",
        "function code_toggle_err() {\n",
        " if (code_show_err){\n",
        " $('div.output_stderr').hide();\n",
        " } else {\n",
        " $('div.output_stderr').show();\n",
        " }\n",
        " code_show_err = !code_show_err\n",
        "} \n",
        "$( document ).ready(code_toggle_err);\n",
        "</script>\n",
        "To toggle on/off output_stderr, click <a href=\"javascript:code_toggle_err()\">here</a>.''')"
      ],
      "metadata": {
        "id": "GUBk6wGhk3v8",
        "colab": {
          "base_uri": "https://localhost:8080/",
          "height": 34
        },
        "outputId": "765be580-f4a3-41fb-b6aa-f8c4692c5844"
      },
      "id": "GUBk6wGhk3v8",
      "execution_count": 1,
      "outputs": [
        {
          "output_type": "execute_result",
          "data": {
            "text/plain": [
              "<IPython.core.display.HTML object>"
            ],
            "text/html": [
              "<script>\n",
              "code_show_err=false; \n",
              "function code_toggle_err() {\n",
              " if (code_show_err){\n",
              " $('div.output_stderr').hide();\n",
              " } else {\n",
              " $('div.output_stderr').show();\n",
              " }\n",
              " code_show_err = !code_show_err\n",
              "} \n",
              "$( document ).ready(code_toggle_err);\n",
              "</script>\n",
              "To toggle on/off output_stderr, click <a href=\"javascript:code_toggle_err()\">here</a>."
            ]
          },
          "metadata": {},
          "execution_count": 1
        }
      ]
    },
    {
      "cell_type": "code",
      "execution_count": 15,
      "id": "dcfc8062",
      "metadata": {
        "id": "dcfc8062"
      },
      "outputs": [],
      "source": [
        "import pandas as pd\n",
        "import io\n",
        "import numpy as np\n",
        "import matplotlib.pyplot as plt\n",
        "import seaborn as sns\n",
        "from sklearn.model_selection import ShuffleSplit\n",
        "from sklearn.linear_model import LogisticRegression\n",
        "from sklearn import metrics as mt\n",
        "from sklearn.preprocessing import StandardScaler\n",
        "from sklearn.svm import SVC\n",
        "from sklearn.model_selection import StratifiedShuffleSplit\n",
        "from sklearn.linear_model import SGDClassifier\n",
        "\n",
        "pd.set_option('display.max_columns',None)\n",
        "\n",
        "import warnings\n",
        "warnings.filterwarnings('ignore')"
      ]
    },
    {
      "cell_type": "code",
      "execution_count": 7,
      "id": "72389e27",
      "metadata": {
        "id": "72389e27",
        "colab": {
          "base_uri": "https://localhost:8080/",
          "height": 302
        },
        "outputId": "7483a651-e535-446b-d8d2-e666e6be6406"
      },
      "outputs": [
        {
          "output_type": "execute_result",
          "data": {
            "text/plain": [
              "   Elevation  Aspect  Slope  Horizontal_Distance_To_Hydrology  \\\n",
              "0       2596      51      3                               258   \n",
              "1       2590      56      2                               212   \n",
              "2       2804     139      9                               268   \n",
              "3       2785     155     18                               242   \n",
              "4       2595      45      2                               153   \n",
              "\n",
              "   Vertical_Distance_To_Hydrology  Horizontal_Distance_To_Roadways  \\\n",
              "0                               0                              510   \n",
              "1                              -6                              390   \n",
              "2                              65                             3180   \n",
              "3                             118                             3090   \n",
              "4                              -1                              391   \n",
              "\n",
              "   Hillshade_9am  Hillshade_Noon  Hillshade_3pm  \\\n",
              "0            221             232            148   \n",
              "1            220             235            151   \n",
              "2            234             238            135   \n",
              "3            238             238            122   \n",
              "4            220             234            150   \n",
              "\n",
              "   Horizontal_Distance_To_Fire_Points  Rawah  Neota  Comanche Peak  \\\n",
              "0                                6279      1      0              0   \n",
              "1                                6225      1      0              0   \n",
              "2                                6121      1      0              0   \n",
              "3                                6211      1      0              0   \n",
              "4                                6172      1      0              0   \n",
              "\n",
              "   Cache la Poudre  Soil_Type1  Soil_Type2  Soil_Type3  Soil_Type4  \\\n",
              "0                0           0           0           0           0   \n",
              "1                0           0           0           0           0   \n",
              "2                0           0           0           0           0   \n",
              "3                0           0           0           0           0   \n",
              "4                0           0           0           0           0   \n",
              "\n",
              "   Soil_Type5  Soil_Type6  Soil_Type7  Soil_Type8  Soil_Type9  Soil_Type10  \\\n",
              "0           0           0           0           0           0            0   \n",
              "1           0           0           0           0           0            0   \n",
              "2           0           0           0           0           0            0   \n",
              "3           0           0           0           0           0            0   \n",
              "4           0           0           0           0           0            0   \n",
              "\n",
              "   Soil_Type11  Soil_Type12  Soil_Type13  Soil_Type14  Soil_Type15  \\\n",
              "0            0            0            0            0            0   \n",
              "1            0            0            0            0            0   \n",
              "2            0            1            0            0            0   \n",
              "3            0            0            0            0            0   \n",
              "4            0            0            0            0            0   \n",
              "\n",
              "   Soil_Type16  Soil_Type17  Soil_Type18  Soil_Type19  Soil_Type20  \\\n",
              "0            0            0            0            0            0   \n",
              "1            0            0            0            0            0   \n",
              "2            0            0            0            0            0   \n",
              "3            0            0            0            0            0   \n",
              "4            0            0            0            0            0   \n",
              "\n",
              "   Soil_Type21  Soil_Type22  Soil_Type23  Soil_Type24  Soil_Type25  \\\n",
              "0            0            0            0            0            0   \n",
              "1            0            0            0            0            0   \n",
              "2            0            0            0            0            0   \n",
              "3            0            0            0            0            0   \n",
              "4            0            0            0            0            0   \n",
              "\n",
              "   Soil_Type26  Soil_Type27  Soil_Type28  Soil_Type29  Soil_Type30  \\\n",
              "0            0            0            0            1            0   \n",
              "1            0            0            0            1            0   \n",
              "2            0            0            0            0            0   \n",
              "3            0            0            0            0            1   \n",
              "4            0            0            0            1            0   \n",
              "\n",
              "   Soil_Type31  Soil_Type32  Soil_Type33  Soil_Type34  Soil_Type35  \\\n",
              "0            0            0            0            0            0   \n",
              "1            0            0            0            0            0   \n",
              "2            0            0            0            0            0   \n",
              "3            0            0            0            0            0   \n",
              "4            0            0            0            0            0   \n",
              "\n",
              "   Soil_Type36  Soil_Type37  Soil_Type38  Soil_Type39  Soil_Type40  Cover_Type  \n",
              "0            0            0            0            0            0           5  \n",
              "1            0            0            0            0            0           5  \n",
              "2            0            0            0            0            0           2  \n",
              "3            0            0            0            0            0           2  \n",
              "4            0            0            0            0            0           5  "
            ],
            "text/html": [
              "\n",
              "  <div id=\"df-3fbb1c9a-10f9-4e6c-80f3-9af3f6754e78\">\n",
              "    <div class=\"colab-df-container\">\n",
              "      <div>\n",
              "<style scoped>\n",
              "    .dataframe tbody tr th:only-of-type {\n",
              "        vertical-align: middle;\n",
              "    }\n",
              "\n",
              "    .dataframe tbody tr th {\n",
              "        vertical-align: top;\n",
              "    }\n",
              "\n",
              "    .dataframe thead th {\n",
              "        text-align: right;\n",
              "    }\n",
              "</style>\n",
              "<table border=\"1\" class=\"dataframe\">\n",
              "  <thead>\n",
              "    <tr style=\"text-align: right;\">\n",
              "      <th></th>\n",
              "      <th>Elevation</th>\n",
              "      <th>Aspect</th>\n",
              "      <th>Slope</th>\n",
              "      <th>Horizontal_Distance_To_Hydrology</th>\n",
              "      <th>Vertical_Distance_To_Hydrology</th>\n",
              "      <th>Horizontal_Distance_To_Roadways</th>\n",
              "      <th>Hillshade_9am</th>\n",
              "      <th>Hillshade_Noon</th>\n",
              "      <th>Hillshade_3pm</th>\n",
              "      <th>Horizontal_Distance_To_Fire_Points</th>\n",
              "      <th>Rawah</th>\n",
              "      <th>Neota</th>\n",
              "      <th>Comanche Peak</th>\n",
              "      <th>Cache la Poudre</th>\n",
              "      <th>Soil_Type1</th>\n",
              "      <th>Soil_Type2</th>\n",
              "      <th>Soil_Type3</th>\n",
              "      <th>Soil_Type4</th>\n",
              "      <th>Soil_Type5</th>\n",
              "      <th>Soil_Type6</th>\n",
              "      <th>Soil_Type7</th>\n",
              "      <th>Soil_Type8</th>\n",
              "      <th>Soil_Type9</th>\n",
              "      <th>Soil_Type10</th>\n",
              "      <th>Soil_Type11</th>\n",
              "      <th>Soil_Type12</th>\n",
              "      <th>Soil_Type13</th>\n",
              "      <th>Soil_Type14</th>\n",
              "      <th>Soil_Type15</th>\n",
              "      <th>Soil_Type16</th>\n",
              "      <th>Soil_Type17</th>\n",
              "      <th>Soil_Type18</th>\n",
              "      <th>Soil_Type19</th>\n",
              "      <th>Soil_Type20</th>\n",
              "      <th>Soil_Type21</th>\n",
              "      <th>Soil_Type22</th>\n",
              "      <th>Soil_Type23</th>\n",
              "      <th>Soil_Type24</th>\n",
              "      <th>Soil_Type25</th>\n",
              "      <th>Soil_Type26</th>\n",
              "      <th>Soil_Type27</th>\n",
              "      <th>Soil_Type28</th>\n",
              "      <th>Soil_Type29</th>\n",
              "      <th>Soil_Type30</th>\n",
              "      <th>Soil_Type31</th>\n",
              "      <th>Soil_Type32</th>\n",
              "      <th>Soil_Type33</th>\n",
              "      <th>Soil_Type34</th>\n",
              "      <th>Soil_Type35</th>\n",
              "      <th>Soil_Type36</th>\n",
              "      <th>Soil_Type37</th>\n",
              "      <th>Soil_Type38</th>\n",
              "      <th>Soil_Type39</th>\n",
              "      <th>Soil_Type40</th>\n",
              "      <th>Cover_Type</th>\n",
              "    </tr>\n",
              "  </thead>\n",
              "  <tbody>\n",
              "    <tr>\n",
              "      <th>0</th>\n",
              "      <td>2596</td>\n",
              "      <td>51</td>\n",
              "      <td>3</td>\n",
              "      <td>258</td>\n",
              "      <td>0</td>\n",
              "      <td>510</td>\n",
              "      <td>221</td>\n",
              "      <td>232</td>\n",
              "      <td>148</td>\n",
              "      <td>6279</td>\n",
              "      <td>1</td>\n",
              "      <td>0</td>\n",
              "      <td>0</td>\n",
              "      <td>0</td>\n",
              "      <td>0</td>\n",
              "      <td>0</td>\n",
              "      <td>0</td>\n",
              "      <td>0</td>\n",
              "      <td>0</td>\n",
              "      <td>0</td>\n",
              "      <td>0</td>\n",
              "      <td>0</td>\n",
              "      <td>0</td>\n",
              "      <td>0</td>\n",
              "      <td>0</td>\n",
              "      <td>0</td>\n",
              "      <td>0</td>\n",
              "      <td>0</td>\n",
              "      <td>0</td>\n",
              "      <td>0</td>\n",
              "      <td>0</td>\n",
              "      <td>0</td>\n",
              "      <td>0</td>\n",
              "      <td>0</td>\n",
              "      <td>0</td>\n",
              "      <td>0</td>\n",
              "      <td>0</td>\n",
              "      <td>0</td>\n",
              "      <td>0</td>\n",
              "      <td>0</td>\n",
              "      <td>0</td>\n",
              "      <td>0</td>\n",
              "      <td>1</td>\n",
              "      <td>0</td>\n",
              "      <td>0</td>\n",
              "      <td>0</td>\n",
              "      <td>0</td>\n",
              "      <td>0</td>\n",
              "      <td>0</td>\n",
              "      <td>0</td>\n",
              "      <td>0</td>\n",
              "      <td>0</td>\n",
              "      <td>0</td>\n",
              "      <td>0</td>\n",
              "      <td>5</td>\n",
              "    </tr>\n",
              "    <tr>\n",
              "      <th>1</th>\n",
              "      <td>2590</td>\n",
              "      <td>56</td>\n",
              "      <td>2</td>\n",
              "      <td>212</td>\n",
              "      <td>-6</td>\n",
              "      <td>390</td>\n",
              "      <td>220</td>\n",
              "      <td>235</td>\n",
              "      <td>151</td>\n",
              "      <td>6225</td>\n",
              "      <td>1</td>\n",
              "      <td>0</td>\n",
              "      <td>0</td>\n",
              "      <td>0</td>\n",
              "      <td>0</td>\n",
              "      <td>0</td>\n",
              "      <td>0</td>\n",
              "      <td>0</td>\n",
              "      <td>0</td>\n",
              "      <td>0</td>\n",
              "      <td>0</td>\n",
              "      <td>0</td>\n",
              "      <td>0</td>\n",
              "      <td>0</td>\n",
              "      <td>0</td>\n",
              "      <td>0</td>\n",
              "      <td>0</td>\n",
              "      <td>0</td>\n",
              "      <td>0</td>\n",
              "      <td>0</td>\n",
              "      <td>0</td>\n",
              "      <td>0</td>\n",
              "      <td>0</td>\n",
              "      <td>0</td>\n",
              "      <td>0</td>\n",
              "      <td>0</td>\n",
              "      <td>0</td>\n",
              "      <td>0</td>\n",
              "      <td>0</td>\n",
              "      <td>0</td>\n",
              "      <td>0</td>\n",
              "      <td>0</td>\n",
              "      <td>1</td>\n",
              "      <td>0</td>\n",
              "      <td>0</td>\n",
              "      <td>0</td>\n",
              "      <td>0</td>\n",
              "      <td>0</td>\n",
              "      <td>0</td>\n",
              "      <td>0</td>\n",
              "      <td>0</td>\n",
              "      <td>0</td>\n",
              "      <td>0</td>\n",
              "      <td>0</td>\n",
              "      <td>5</td>\n",
              "    </tr>\n",
              "    <tr>\n",
              "      <th>2</th>\n",
              "      <td>2804</td>\n",
              "      <td>139</td>\n",
              "      <td>9</td>\n",
              "      <td>268</td>\n",
              "      <td>65</td>\n",
              "      <td>3180</td>\n",
              "      <td>234</td>\n",
              "      <td>238</td>\n",
              "      <td>135</td>\n",
              "      <td>6121</td>\n",
              "      <td>1</td>\n",
              "      <td>0</td>\n",
              "      <td>0</td>\n",
              "      <td>0</td>\n",
              "      <td>0</td>\n",
              "      <td>0</td>\n",
              "      <td>0</td>\n",
              "      <td>0</td>\n",
              "      <td>0</td>\n",
              "      <td>0</td>\n",
              "      <td>0</td>\n",
              "      <td>0</td>\n",
              "      <td>0</td>\n",
              "      <td>0</td>\n",
              "      <td>0</td>\n",
              "      <td>1</td>\n",
              "      <td>0</td>\n",
              "      <td>0</td>\n",
              "      <td>0</td>\n",
              "      <td>0</td>\n",
              "      <td>0</td>\n",
              "      <td>0</td>\n",
              "      <td>0</td>\n",
              "      <td>0</td>\n",
              "      <td>0</td>\n",
              "      <td>0</td>\n",
              "      <td>0</td>\n",
              "      <td>0</td>\n",
              "      <td>0</td>\n",
              "      <td>0</td>\n",
              "      <td>0</td>\n",
              "      <td>0</td>\n",
              "      <td>0</td>\n",
              "      <td>0</td>\n",
              "      <td>0</td>\n",
              "      <td>0</td>\n",
              "      <td>0</td>\n",
              "      <td>0</td>\n",
              "      <td>0</td>\n",
              "      <td>0</td>\n",
              "      <td>0</td>\n",
              "      <td>0</td>\n",
              "      <td>0</td>\n",
              "      <td>0</td>\n",
              "      <td>2</td>\n",
              "    </tr>\n",
              "    <tr>\n",
              "      <th>3</th>\n",
              "      <td>2785</td>\n",
              "      <td>155</td>\n",
              "      <td>18</td>\n",
              "      <td>242</td>\n",
              "      <td>118</td>\n",
              "      <td>3090</td>\n",
              "      <td>238</td>\n",
              "      <td>238</td>\n",
              "      <td>122</td>\n",
              "      <td>6211</td>\n",
              "      <td>1</td>\n",
              "      <td>0</td>\n",
              "      <td>0</td>\n",
              "      <td>0</td>\n",
              "      <td>0</td>\n",
              "      <td>0</td>\n",
              "      <td>0</td>\n",
              "      <td>0</td>\n",
              "      <td>0</td>\n",
              "      <td>0</td>\n",
              "      <td>0</td>\n",
              "      <td>0</td>\n",
              "      <td>0</td>\n",
              "      <td>0</td>\n",
              "      <td>0</td>\n",
              "      <td>0</td>\n",
              "      <td>0</td>\n",
              "      <td>0</td>\n",
              "      <td>0</td>\n",
              "      <td>0</td>\n",
              "      <td>0</td>\n",
              "      <td>0</td>\n",
              "      <td>0</td>\n",
              "      <td>0</td>\n",
              "      <td>0</td>\n",
              "      <td>0</td>\n",
              "      <td>0</td>\n",
              "      <td>0</td>\n",
              "      <td>0</td>\n",
              "      <td>0</td>\n",
              "      <td>0</td>\n",
              "      <td>0</td>\n",
              "      <td>0</td>\n",
              "      <td>1</td>\n",
              "      <td>0</td>\n",
              "      <td>0</td>\n",
              "      <td>0</td>\n",
              "      <td>0</td>\n",
              "      <td>0</td>\n",
              "      <td>0</td>\n",
              "      <td>0</td>\n",
              "      <td>0</td>\n",
              "      <td>0</td>\n",
              "      <td>0</td>\n",
              "      <td>2</td>\n",
              "    </tr>\n",
              "    <tr>\n",
              "      <th>4</th>\n",
              "      <td>2595</td>\n",
              "      <td>45</td>\n",
              "      <td>2</td>\n",
              "      <td>153</td>\n",
              "      <td>-1</td>\n",
              "      <td>391</td>\n",
              "      <td>220</td>\n",
              "      <td>234</td>\n",
              "      <td>150</td>\n",
              "      <td>6172</td>\n",
              "      <td>1</td>\n",
              "      <td>0</td>\n",
              "      <td>0</td>\n",
              "      <td>0</td>\n",
              "      <td>0</td>\n",
              "      <td>0</td>\n",
              "      <td>0</td>\n",
              "      <td>0</td>\n",
              "      <td>0</td>\n",
              "      <td>0</td>\n",
              "      <td>0</td>\n",
              "      <td>0</td>\n",
              "      <td>0</td>\n",
              "      <td>0</td>\n",
              "      <td>0</td>\n",
              "      <td>0</td>\n",
              "      <td>0</td>\n",
              "      <td>0</td>\n",
              "      <td>0</td>\n",
              "      <td>0</td>\n",
              "      <td>0</td>\n",
              "      <td>0</td>\n",
              "      <td>0</td>\n",
              "      <td>0</td>\n",
              "      <td>0</td>\n",
              "      <td>0</td>\n",
              "      <td>0</td>\n",
              "      <td>0</td>\n",
              "      <td>0</td>\n",
              "      <td>0</td>\n",
              "      <td>0</td>\n",
              "      <td>0</td>\n",
              "      <td>1</td>\n",
              "      <td>0</td>\n",
              "      <td>0</td>\n",
              "      <td>0</td>\n",
              "      <td>0</td>\n",
              "      <td>0</td>\n",
              "      <td>0</td>\n",
              "      <td>0</td>\n",
              "      <td>0</td>\n",
              "      <td>0</td>\n",
              "      <td>0</td>\n",
              "      <td>0</td>\n",
              "      <td>5</td>\n",
              "    </tr>\n",
              "  </tbody>\n",
              "</table>\n",
              "</div>\n",
              "      <button class=\"colab-df-convert\" onclick=\"convertToInteractive('df-3fbb1c9a-10f9-4e6c-80f3-9af3f6754e78')\"\n",
              "              title=\"Convert this dataframe to an interactive table.\"\n",
              "              style=\"display:none;\">\n",
              "        \n",
              "  <svg xmlns=\"http://www.w3.org/2000/svg\" height=\"24px\"viewBox=\"0 0 24 24\"\n",
              "       width=\"24px\">\n",
              "    <path d=\"M0 0h24v24H0V0z\" fill=\"none\"/>\n",
              "    <path d=\"M18.56 5.44l.94 2.06.94-2.06 2.06-.94-2.06-.94-.94-2.06-.94 2.06-2.06.94zm-11 1L8.5 8.5l.94-2.06 2.06-.94-2.06-.94L8.5 2.5l-.94 2.06-2.06.94zm10 10l.94 2.06.94-2.06 2.06-.94-2.06-.94-.94-2.06-.94 2.06-2.06.94z\"/><path d=\"M17.41 7.96l-1.37-1.37c-.4-.4-.92-.59-1.43-.59-.52 0-1.04.2-1.43.59L10.3 9.45l-7.72 7.72c-.78.78-.78 2.05 0 2.83L4 21.41c.39.39.9.59 1.41.59.51 0 1.02-.2 1.41-.59l7.78-7.78 2.81-2.81c.8-.78.8-2.07 0-2.86zM5.41 20L4 18.59l7.72-7.72 1.47 1.35L5.41 20z\"/>\n",
              "  </svg>\n",
              "      </button>\n",
              "      \n",
              "  <style>\n",
              "    .colab-df-container {\n",
              "      display:flex;\n",
              "      flex-wrap:wrap;\n",
              "      gap: 12px;\n",
              "    }\n",
              "\n",
              "    .colab-df-convert {\n",
              "      background-color: #E8F0FE;\n",
              "      border: none;\n",
              "      border-radius: 50%;\n",
              "      cursor: pointer;\n",
              "      display: none;\n",
              "      fill: #1967D2;\n",
              "      height: 32px;\n",
              "      padding: 0 0 0 0;\n",
              "      width: 32px;\n",
              "    }\n",
              "\n",
              "    .colab-df-convert:hover {\n",
              "      background-color: #E2EBFA;\n",
              "      box-shadow: 0px 1px 2px rgba(60, 64, 67, 0.3), 0px 1px 3px 1px rgba(60, 64, 67, 0.15);\n",
              "      fill: #174EA6;\n",
              "    }\n",
              "\n",
              "    [theme=dark] .colab-df-convert {\n",
              "      background-color: #3B4455;\n",
              "      fill: #D2E3FC;\n",
              "    }\n",
              "\n",
              "    [theme=dark] .colab-df-convert:hover {\n",
              "      background-color: #434B5C;\n",
              "      box-shadow: 0px 1px 3px 1px rgba(0, 0, 0, 0.15);\n",
              "      filter: drop-shadow(0px 1px 2px rgba(0, 0, 0, 0.3));\n",
              "      fill: #FFFFFF;\n",
              "    }\n",
              "  </style>\n",
              "\n",
              "      <script>\n",
              "        const buttonEl =\n",
              "          document.querySelector('#df-3fbb1c9a-10f9-4e6c-80f3-9af3f6754e78 button.colab-df-convert');\n",
              "        buttonEl.style.display =\n",
              "          google.colab.kernel.accessAllowed ? 'block' : 'none';\n",
              "\n",
              "        async function convertToInteractive(key) {\n",
              "          const element = document.querySelector('#df-3fbb1c9a-10f9-4e6c-80f3-9af3f6754e78');\n",
              "          const dataTable =\n",
              "            await google.colab.kernel.invokeFunction('convertToInteractive',\n",
              "                                                     [key], {});\n",
              "          if (!dataTable) return;\n",
              "\n",
              "          const docLinkHtml = 'Like what you see? Visit the ' +\n",
              "            '<a target=\"_blank\" href=https://colab.research.google.com/notebooks/data_table.ipynb>data table notebook</a>'\n",
              "            + ' to learn more about interactive tables.';\n",
              "          element.innerHTML = '';\n",
              "          dataTable['output_type'] = 'display_data';\n",
              "          await google.colab.output.renderOutput(dataTable, element);\n",
              "          const docLink = document.createElement('div');\n",
              "          docLink.innerHTML = docLinkHtml;\n",
              "          element.appendChild(docLink);\n",
              "        }\n",
              "      </script>\n",
              "    </div>\n",
              "  </div>\n",
              "  "
            ]
          },
          "metadata": {},
          "execution_count": 7
        }
      ],
      "source": [
        "forest_cover_type = pd.read_csv('covtype.csv')\n",
        "forest_cover_type.head()\n",
        "# Creating a new dataset that only contains the most common cover types\n",
        "#updated to all\n",
        "# Renaming wilderness areas\n",
        "forestDF = forest_cover_type\n",
        "forestDF.rename(columns={'Wilderness_Area1':'Rawah','Wilderness_Area2':'Neota','Wilderness_Area3':'Comanche Peak','Wilderness_Area4':'Cache la Poudre'},inplace=True)\n",
        "forestDF.head()\n",
        "\n",
        "\n",
        "# Coding Lodgepole Pine as 1 and Spruce/Fir as 0"
      ]
    },
    {
      "cell_type": "code",
      "source": [
        "#New dataframe that only contains two most common cover types\n",
        "# 1 -> Spruce/Fir\n",
        "# 2 -> Lodgepole Pine\n",
        "\n",
        "forestDF = forest_cover_type[(forest_cover_type['Cover_Type']==1) | (forest_cover_type['Cover_Type']==2)]"
      ],
      "metadata": {
        "id": "VBSnqPvc61AF"
      },
      "id": "VBSnqPvc61AF",
      "execution_count": 8,
      "outputs": []
    },
    {
      "cell_type": "code",
      "source": [
        "forestDF = forestDF.astype({'Cover_Type':'string'})\n",
        "forestDF['Cover_Type'] = forestDF['Cover_Type'].str.replace('1','Spruce/Fir')\n",
        "forestDF['Cover_Type'] = forestDF['Cover_Type'].str.replace('2','Lodgepole Pine')\n",
        "forestDF['Cover_Type'].describe().transpose()"
      ],
      "metadata": {
        "colab": {
          "base_uri": "https://localhost:8080/"
        },
        "id": "ngJX22Uv72LL",
        "outputId": "3ba498b1-1389-4e3c-8e7e-8697f3ad70be"
      },
      "id": "ngJX22Uv72LL",
      "execution_count": 9,
      "outputs": [
        {
          "output_type": "execute_result",
          "data": {
            "text/plain": [
              "count             495141\n",
              "unique                 2\n",
              "top       Lodgepole Pine\n",
              "freq              283301\n",
              "Name: Cover_Type, dtype: object"
            ]
          },
          "metadata": {},
          "execution_count": 9
        }
      ]
    },
    {
      "cell_type": "code",
      "source": [
        "# Lodgepole Pine = 1 | Spruce/Fir = 0\n",
        "forestDF['treeType'] = forestDF.Cover_Type == 'Lodgepole Pine'\n",
        "forestDF.treeType = forestDF.treeType.astype(np.int64)\n",
        "if 'Cover_Type' in forestDF:\n",
        "    del forestDF['Cover_Type']\n"
      ],
      "metadata": {
        "id": "3sB11uGjuupI"
      },
      "id": "3sB11uGjuupI",
      "execution_count": 10,
      "outputs": []
    },
    {
      "cell_type": "code",
      "source": [
        "forestFullDF = forestDF.copy()"
      ],
      "metadata": {
        "id": "D0a1Nigf7B4M"
      },
      "id": "D0a1Nigf7B4M",
      "execution_count": 11,
      "outputs": []
    },
    {
      "cell_type": "markdown",
      "source": [
        "## Create Models\n",
        "For our models, we decided to predict if a certain land plot is Spruce/Fir or Lodegpole Pine.\n",
        "\n",
        "After comparing the results, we will make a recommendation for which model to implement in order to predict Cover Type."
      ],
      "metadata": {
        "id": "8zN4Z9ULBc-c"
      },
      "id": "8zN4Z9ULBc-c"
    },
    {
      "cell_type": "markdown",
      "source": [
        "\n",
        "## Create Models 50\n",
        "\n",
        "# From Rubric delete before submitting\n",
        "Create a logistic regression model and a support vector machine model for the classification task involved with your dataset. \n",
        "Assess how well each model performs (use 80/20 training/testing split for your data). \n",
        "Adjust parameters of the models to make them more accurate. \n",
        "If your dataset size requires the use of stochastic gradient descent, then linear kernel only is fine to use. \n",
        "That is, the SGDClassifier is fine to use for optimizing logistic regression and linear support vector machines. For many problems, SGD will be required in order to train the SVM model in a reasonable timeframe. \n",
        "\n",
        "# Quick Model run through\n",
        "The following sections create and train two models on the dataset: Logistic Regression and SVM. For SVM, due to the large amount of records in the dataset we will be using Stochastic Gradient Descent."
      ],
      "metadata": {
        "id": "gg2dVWM5hsJp"
      },
      "id": "gg2dVWM5hsJp"
    },
    {
      "cell_type": "markdown",
      "id": "7bd81bde",
      "metadata": {
        "id": "7bd81bde"
      },
      "source": [
        "# Logistic Regression"
      ]
    },
    {
      "cell_type": "code",
      "execution_count": 12,
      "id": "11bb0b87",
      "metadata": {
        "id": "11bb0b87"
      },
      "outputs": [],
      "source": [
        "if 'treeType' in forestDF:\n",
        "    Y = forestDF['treeType'].values\n",
        "    del forestDF['treeType']\n",
        "    X = forestDF.values"
      ]
    },
    {
      "cell_type": "code",
      "execution_count": 13,
      "id": "68d276d2",
      "metadata": {
        "id": "68d276d2"
      },
      "outputs": [],
      "source": [
        "#Creating cross validation object\n",
        "num_cv_iter = 10\n",
        "num_instances = len(Y)\n",
        "cv_Log = ShuffleSplit(n_splits=num_cv_iter,test_size=0.2)"
      ]
    },
    {
      "cell_type": "code",
      "execution_count": 14,
      "id": "eadf2078",
      "metadata": {
        "id": "eadf2078"
      },
      "outputs": [],
      "source": [
        "# Creating logistic regression object\n",
        "lr_clf = LogisticRegression(penalty = 'l2',\n",
        "                            C = 1.0,\n",
        "                            class_weight = None)"
      ]
    },
    {
      "cell_type": "code",
      "execution_count": 16,
      "id": "9aab106f",
      "metadata": {
        "id": "9aab106f",
        "colab": {
          "base_uri": "https://localhost:8080/"
        },
        "outputId": "8630312d-d28b-41fd-a00b-3593514d2e1a"
      },
      "outputs": [
        {
          "output_type": "stream",
          "name": "stdout",
          "text": [
            "****Iteration 0 ****\n",
            "Accuracy 0.7447111452200871\n",
            "Confusion Matrix \n",
            " [[28571 13894]\n",
            " [11387 45177]]\n",
            "****Iteration 1 ****\n",
            "Accuracy 0.7386321178644639\n",
            "Confusion Matrix \n",
            " [[28919 13416]\n",
            " [12467 44227]]\n",
            "****Iteration 2 ****\n",
            "Accuracy 0.751204192711226\n",
            "Confusion Matrix \n",
            " [[29479 12881]\n",
            " [11757 44912]]\n",
            "****Iteration 3 ****\n",
            "Accuracy 0.7561118460249018\n",
            "Confusion Matrix \n",
            " [[29612 12862]\n",
            " [11290 45265]]\n",
            "****Iteration 4 ****\n",
            "Accuracy 0.7613830292136646\n",
            "Confusion Matrix \n",
            " [[29626 12848]\n",
            " [10782 45773]]\n",
            "****Iteration 5 ****\n",
            "Accuracy 0.7566167486291895\n",
            "Confusion Matrix \n",
            " [[29404 12743]\n",
            " [11359 45523]]\n",
            "****Iteration 6 ****\n",
            "Accuracy 0.7591311635985418\n",
            "Confusion Matrix \n",
            " [[29625 12804]\n",
            " [11049 45551]]\n",
            "****Iteration 7 ****\n",
            "Accuracy 0.7610497934948348\n",
            "Confusion Matrix \n",
            " [[29773 12757]\n",
            " [10906 45593]]\n",
            "****Iteration 8 ****\n",
            "Accuracy 0.7603732240050894\n",
            "Confusion Matrix \n",
            " [[29889 12631]\n",
            " [11099 45410]]\n",
            "****Iteration 9 ****\n",
            "Accuracy 0.7572933181189349\n",
            "Confusion Matrix \n",
            " [[29569 12726]\n",
            " [11309 45425]]\n"
          ]
        }
      ],
      "source": [
        "# Running logistic regression on 10 random test/train splits\n",
        "iter_num = 0\n",
        "\n",
        "for iter_num, (train_indices,test_indices) in enumerate(cv_Log.split(X,Y)):\n",
        "    lr_clf.fit(X[train_indices],Y[train_indices])\n",
        "    y_hat = lr_clf.predict(X[test_indices])\n",
        "    \n",
        "    print('****Iteration',iter_num,'****')\n",
        "    print('Accuracy',mt.accuracy_score(Y[test_indices],y_hat))\n",
        "    print('Confusion Matrix \\n',mt.confusion_matrix(Y[test_indices],y_hat))\n",
        "\n",
        "    "
      ]
    },
    {
      "cell_type": "code",
      "source": [
        "from sklearn.model_selection import cross_val_score\n",
        "accuracies = cross_val_score(lr_clf, X, Y, cv=cv_Log)\n"
      ],
      "metadata": {
        "id": "0yp9x8LbU4XM",
        "colab": {
          "base_uri": "https://localhost:8080/"
        },
        "outputId": "a82eb73a-0c8d-4382-b0ba-fd1b20a2d539"
      },
      "id": "0yp9x8LbU4XM",
      "execution_count": 19,
      "outputs": [
        {
          "output_type": "stream",
          "name": "stdout",
          "text": [
            "[0.75289057 0.74891193 0.75826273 0.75276939 0.75712165 0.74679134\n",
            " 0.75748518 0.73865231 0.75728322 0.75509194]\n"
          ]
        }
      ]
    },
    {
      "cell_type": "code",
      "source": [
        "print('The mean accuracy was',np.mean(accuracies)*100,'% after',num_cv_iter,'cross validations.')"
      ],
      "metadata": {
        "colab": {
          "base_uri": "https://localhost:8080/"
        },
        "id": "K4_Moyg888aC",
        "outputId": "a9eb3041-7eea-4e1c-e21c-f8244ce92daf"
      },
      "id": "K4_Moyg888aC",
      "execution_count": 25,
      "outputs": [
        {
          "output_type": "stream",
          "name": "stdout",
          "text": [
            "The mean accuracy was 75.25260277292512 % after 10 cross validations.\n"
          ]
        }
      ]
    },
    {
      "cell_type": "markdown",
      "source": [
        "After the logistic regression model was run ten times, the mean accuracy score was 75% This shows us that the different train/test splits seem to be fair in their distributions. We do anticipate a change in accuracy (an increase) as we attempt to adjust some parameters and implement other measures. "
      ],
      "metadata": {
        "id": "hr0hJhUow7By"
      },
      "id": "hr0hJhUow7By"
    },
    {
      "cell_type": "code",
      "source": [
        "logWeights = pd.Series(lr_clf.coef_[0], index = forestDF.columns)\n",
        "logWeights = pd.DataFrame({'Var':logWeights.index, 'Weight':logWeights.values})\n",
        "logWeights = logWeights.sort_values('Weight')\n",
        "plt.figure(figsize=(8, 10))\n",
        "sns.barplot(x='Weight', y = 'Var', data = logWeights)"
      ],
      "metadata": {
        "id": "QVQwXW_v6KSA",
        "colab": {
          "base_uri": "https://localhost:8080/",
          "height": 623
        },
        "outputId": "600e592f-dcb6-4178-ea8b-b703ff7842ad"
      },
      "id": "QVQwXW_v6KSA",
      "execution_count": 26,
      "outputs": [
        {
          "output_type": "execute_result",
          "data": {
            "text/plain": [
              "<matplotlib.axes._subplots.AxesSubplot at 0x7f8452a2e250>"
            ]
          },
          "metadata": {},
          "execution_count": 26
        },
        {
          "output_type": "display_data",
          "data": {
            "text/plain": [
              "<Figure size 576x720 with 1 Axes>"
            ],
            "image/png": "[encoded data removed]"
          },
          "metadata": {
            "needs_background": "light"
          }
        }
      ]
    },
    {
      "cell_type": "markdown",
      "source": [
        "The above weights are not scaled so we will reassess after scaling the predictors."
      ],
      "metadata": {
        "id": "zCucIWWu9x_A"
      },
      "id": "zCucIWWu9x_A"
    },
    {
      "cell_type": "code",
      "source": [
        "sclObj = StandardScaler()\n",
        "sclObj.fit(X)\n",
        "\n",
        "XScaled = sclObj.transform(X)\n",
        "\n",
        "lrs_clf = LogisticRegression(penalty='l2',\n",
        "                             C=150.0,\n",
        "                             class_weight=None)\n",
        "iter_num = 0 \n",
        "for iter_num, (train_indices,test_indices) in enumerate(cv_Log.split(XScaled,Y)):\n",
        "  lrs_clf.fit(XScaled[train_indices],Y[train_indices])\n",
        "  y_hatS = lrs_clf.predict(XScaled[test_indices])\n",
        "  print('****Iteration',iter_num,'****')\n",
        "  print('Accuracy',mt.accuracy_score(Y[test_indices],y_hatS))\n",
        "  print('Confusion Matrix \\n',mt.confusion_matrix(Y[test_indices],y_hatS))"
      ],
      "metadata": {
        "colab": {
          "base_uri": "https://localhost:8080/"
        },
        "id": "3jZqCJZX-E7c",
        "outputId": "2251742b-fcb5-46b8-e007-a083128cebc1"
      },
      "id": "3jZqCJZX-E7c",
      "execution_count": 31,
      "outputs": [
        {
          "output_type": "stream",
          "name": "stdout",
          "text": [
            "****Iteration 0 ****\n",
            "Accuracy 0.7774591281341829\n",
            "Confusion Matrix \n",
            " [[30383 11849]\n",
            " [10189 46608]]\n",
            "****Iteration 1 ****\n",
            "Accuracy 0.7741065748417131\n",
            "Confusion Matrix \n",
            " [[30358 12060]\n",
            " [10310 46301]]\n",
            "****Iteration 2 ****\n",
            "Accuracy 0.7762675579880641\n",
            "Confusion Matrix \n",
            " [[30581 11893]\n",
            " [10263 46292]]\n",
            "****Iteration 3 ****\n",
            "Accuracy 0.7765503034464651\n",
            "Confusion Matrix \n",
            " [[30379 12027]\n",
            " [10101 46522]]\n",
            "****Iteration 4 ****\n",
            "Accuracy 0.7743893203001141\n",
            "Confusion Matrix \n",
            " [[30211 12097]\n",
            " [10245 46476]]\n",
            "****Iteration 5 ****\n",
            "Accuracy 0.7749851053731736\n",
            "Confusion Matrix \n",
            " [[30483 11953]\n",
            " [10330 46263]]\n",
            "****Iteration 6 ****\n",
            "Accuracy 0.7752678508315746\n",
            "Confusion Matrix \n",
            " [[30444 11983]\n",
            " [10272 46330]]\n",
            "****Iteration 7 ****\n",
            "Accuracy 0.7779135404780417\n",
            "Confusion Matrix \n",
            " [[30363 11951]\n",
            " [10042 46673]]\n",
            "****Iteration 8 ****\n",
            "Accuracy 0.7758737339567198\n",
            "Confusion Matrix \n",
            " [[30243 12066]\n",
            " [10129 46591]]\n",
            "****Iteration 9 ****\n",
            "Accuracy 0.7754799099253754\n",
            "Confusion Matrix \n",
            " [[30433 12061]\n",
            " [10173 46362]]\n"
          ]
        }
      ]
    },
    {
      "cell_type": "code",
      "source": [
        "from sklearn.model_selection import cross_val_score\n",
        "accScaled = cross_val_score(lrs_clf, XScaled, Y, cv=cv_Log)\n",
        "print('The mean accuracy was',np.mean(accScaled)*100,'% after',num_cv_iter,'cross validations.')"
      ],
      "metadata": {
        "colab": {
          "base_uri": "https://localhost:8080/"
        },
        "id": "0TqzeugFBOLl",
        "outputId": "fd387219-e1ed-4bf3-92fb-8702cf948cb8"
      },
      "id": "0TqzeugFBOLl",
      "execution_count": 32,
      "outputs": [
        {
          "output_type": "stream",
          "name": "stdout",
          "text": [
            "The mean accuracy was 77.58181946702481 % after 10 cross validations.\n"
          ]
        }
      ]
    },
    {
      "cell_type": "markdown",
      "source": [
        "After scaling the predictors and changing the C hyperparameter to 150 the mean accuracy of our model after 10 cross validation iterations increased to 77.5%.\n",
        "\n",
        "Next we'll look at the weights of the predictors after the scaling."
      ],
      "metadata": {
        "id": "u3qkXmqOBnv5"
      },
      "id": "u3qkXmqOBnv5"
    },
    {
      "cell_type": "code",
      "source": [
        "logSWeights = pd.Series(lrs_clf.coef_[0],index=forestDF.columns)\n",
        "logSWeights = pd.DataFrame({'Var':logSWeights.index,'Weight':logSWeights.values})\n",
        "logSWeights = logSWeights.sort_values('Weight')\n",
        "plt.figure(figsize=(8,10))\n",
        "sns.barplot(x='Weight',y='Var',data=logSWeights)"
      ],
      "metadata": {
        "colab": {
          "base_uri": "https://localhost:8080/",
          "height": 623
        },
        "id": "gUgrUO-2B8zY",
        "outputId": "76f59d97-2c16-4c40-ea48-1c984dae13f8"
      },
      "id": "gUgrUO-2B8zY",
      "execution_count": 33,
      "outputs": [
        {
          "output_type": "execute_result",
          "data": {
            "text/plain": [
              "<matplotlib.axes._subplots.AxesSubplot at 0x7f8450a52cd0>"
            ]
          },
          "metadata": {},
          "execution_count": 33
        },
        {
          "output_type": "display_data",
          "data": {
            "text/plain": [
              "<Figure size 576x720 with 1 Axes>"
            ],
            "image/png": "[encoded data removed]"
          },
          "metadata": {
            "needs_background": "light"
          }
        }
      ]
    },
    {
      "cell_type": "code",
      "source": [
        "logSWeights['absWeight'] = logSWeights['Weight'].abs()\n",
        "logSWeights = logSWeights.sort_values('absWeight')\n",
        "plt.figure(figsize=(8,10))\n",
        "sns.barplot(x='absWeight',y='Var',data=logSWeights)"
      ],
      "metadata": {
        "colab": {
          "base_uri": "https://localhost:8080/",
          "height": 623
        },
        "id": "_aCc1RgQCn_f",
        "outputId": "a589b069-3af3-4dab-b864-1cb186bba783"
      },
      "id": "_aCc1RgQCn_f",
      "execution_count": 35,
      "outputs": [
        {
          "output_type": "execute_result",
          "data": {
            "text/plain": [
              "<matplotlib.axes._subplots.AxesSubplot at 0x7f84502f5310>"
            ]
          },
          "metadata": {},
          "execution_count": 35
        },
        {
          "output_type": "display_data",
          "data": {
            "text/plain": [
              "<Figure size 576x720 with 1 Axes>"
            ],
            "image/png": "[encoded data removed]"
          },
          "metadata": {
            "needs_background": "light"
          }
        }
      ]
    },
    {
      "cell_type": "markdown",
      "source": [
        "We decided to leverage Random Forest to eliminate some of the variables included in the model, to see if there is an increase in performance in a simpler model."
      ],
      "metadata": {
        "id": "ahvN4uSBqoW0"
      },
      "id": "ahvN4uSBqoW0"
    },
    {
      "cell_type": "code",
      "source": [
        "# Feature Importance Graph\n",
        "# Takes about five minutes\n",
        "from sklearn.ensemble import RandomForestRegressor\n",
        "rf = RandomForestRegressor(n_estimators = 20)\n",
        "rf.fit(X, Y)"
      ],
      "metadata": {
        "id": "QU5toe0grs3B",
        "colab": {
          "base_uri": "https://localhost:8080/"
        },
        "outputId": "41e0341a-f87d-4b4c-e246-8a0cb4080080"
      },
      "id": "QU5toe0grs3B",
      "execution_count": null,
      "outputs": [
        {
          "output_type": "execute_result",
          "data": {
            "text/plain": [
              "RandomForestRegressor(n_estimators=20)"
            ]
          },
          "metadata": {},
          "execution_count": 119
        }
      ]
    },
    {
      "cell_type": "code",
      "source": [
        "sort = rf.feature_importances_.argsort()\n",
        "plt.barh(forestDF.columns.values[sort], rf.feature_importances_[sort])\n",
        "plt.xlabel('Feature Importance')\n",
        "plt.axis([0, 0.35, 34, 52])\n",
        "plt.show()"
      ],
      "metadata": {
        "id": "l409CPrduYOy",
        "colab": {
          "base_uri": "https://localhost:8080/",
          "height": 283
        },
        "outputId": "8d590f00-8641-4ed9-92d8-30ba9a45b039"
      },
      "id": "l409CPrduYOy",
      "execution_count": null,
      "outputs": [
        {
          "output_type": "display_data",
          "data": {
            "text/plain": [
              "<Figure size 432x288 with 1 Axes>"
            ],
            "image/png": "[encoded data removed]"
          },
          "metadata": {
            "needs_background": "light"
          }
        }
      ]
    },
    {
      "cell_type": "code",
      "source": [
        "forestDF.columns"
      ],
      "metadata": {
        "id": "aBhlTwtCzqKm",
        "colab": {
          "base_uri": "https://localhost:8080/"
        },
        "outputId": "cc1c5a98-1834-4b54-a87f-ecb268d0fe78"
      },
      "id": "aBhlTwtCzqKm",
      "execution_count": null,
      "outputs": [
        {
          "output_type": "execute_result",
          "data": {
            "text/plain": [
              "Index(['Elevation', 'Aspect', 'Slope', 'Horizontal_Distance_To_Hydrology',\n",
              "       'Vertical_Distance_To_Hydrology', 'Horizontal_Distance_To_Roadways',\n",
              "       'Hillshade_9am', 'Hillshade_Noon', 'Hillshade_3pm',\n",
              "       'Horizontal_Distance_To_Fire_Points', 'Rawah', 'Neota', 'Comanche Peak',\n",
              "       'Cache la Poudre', 'Soil_Type1', 'Soil_Type2', 'Soil_Type3',\n",
              "       'Soil_Type4', 'Soil_Type5', 'Soil_Type6', 'Soil_Type7', 'Soil_Type8',\n",
              "       'Soil_Type9', 'Soil_Type10', 'Soil_Type11', 'Soil_Type12',\n",
              "       'Soil_Type13', 'Soil_Type14', 'Soil_Type15', 'Soil_Type16',\n",
              "       'Soil_Type17', 'Soil_Type18', 'Soil_Type19', 'Soil_Type20',\n",
              "       'Soil_Type21', 'Soil_Type22', 'Soil_Type23', 'Soil_Type24',\n",
              "       'Soil_Type25', 'Soil_Type26', 'Soil_Type27', 'Soil_Type28',\n",
              "       'Soil_Type29', 'Soil_Type30', 'Soil_Type31', 'Soil_Type32',\n",
              "       'Soil_Type33', 'Soil_Type34', 'Soil_Type35', 'Soil_Type36',\n",
              "       'Soil_Type37', 'Soil_Type38', 'Soil_Type39', 'Soil_Type40'],\n",
              "      dtype='object')"
            ]
          },
          "metadata": {},
          "execution_count": 121
        }
      ]
    },
    {
      "cell_type": "markdown",
      "source": [
        "Based on the importance output, we decided to build a simplified model on:\n",
        "\n",
        "*   Elevation\n",
        "*   Horizontal Distance to Fire Points\n",
        "*   Soil Type: 32, 4, 2, 23, 29, 33, 31, 22\n",
        "*   Horizontal Distance to Roadways\n",
        "*   Wilderness Area: Comanche Peak, Rawah\n",
        "*   Horizontal Distance To Hydrology\n",
        "*   Hillshade noon\n",
        "*   Aspect\n",
        "*   Slope\n",
        "\n",
        "\n"
      ],
      "metadata": {
        "id": "Kq5Xrc7wrBHe"
      },
      "id": "Kq5Xrc7wrBHe"
    },
    {
      "cell_type": "code",
      "source": [
        "forestDF_new = pd.DataFrame().assign(\n",
        "                treeType=Y, \n",
        "                Elevation=forestDF['Elevation'], \n",
        "                Horizontal_Distance_To_Fire_Points=forestDF['Horizontal_Distance_To_Fire_Points'],\n",
        "                Soil_Type32=forestDF['Soil_Type32'],\n",
        "                Soil_Type4=forestDF['Soil_Type4'],\n",
        "                Soil_Type2=forestDF['Soil_Type2'],\n",
        "                Soil_Type23=forestDF['Soil_Type23'],\n",
        "                Soil_Type29=forestDF['Soil_Type29'],\n",
        "                Soil_Type33=forestDF['Soil_Type33'],\n",
        "                Soil_Type31=forestDF['Soil_Type31'],\n",
        "                Soil_Type22=forestDF['Soil_Type22'],\n",
        "                Horizontal_Distance_To_Roadways=forestDF['Horizontal_Distance_To_Roadways'],\n",
        "                Comanche_Peak=forestDF['Comanche Peak'], \n",
        "                Rawah=forestDF['Rawah'], \n",
        "                Horizontal_Distance_To_Hydrology=forestDF['Horizontal_Distance_To_Hydrology'],\n",
        "                Hillshade_Noon=forestDF['Hillshade_Noon'],\n",
        "                Aspect=forestDF['Aspect'],\n",
        "                Slope=forestDF['Slope']\n",
        "                                                      )\n"
      ],
      "metadata": {
        "id": "2nu7kYPa0WD9"
      },
      "id": "2nu7kYPa0WD9",
      "execution_count": null,
      "outputs": []
    },
    {
      "cell_type": "code",
      "source": [
        "# Assign specific features to two different variables\n",
        "if 'treeType' in forestDF:\n",
        "    Y = forestDF_new['treeType'].values\n",
        "    del forestDF_new['treeType']\n",
        "    X = forestDF_new.values"
      ],
      "metadata": {
        "id": "ImGv5F8Tw0uU"
      },
      "id": "ImGv5F8Tw0uU",
      "execution_count": null,
      "outputs": []
    },
    {
      "cell_type": "code",
      "source": [
        "# Re-creating logistic regression object\n",
        "lr_clf_new = LogisticRegression(penalty = 'l2', C = 1.0, class_weight = None)"
      ],
      "metadata": {
        "id": "UX1Oh210w-Oj"
      },
      "id": "UX1Oh210w-Oj",
      "execution_count": null,
      "outputs": []
    },
    {
      "cell_type": "code",
      "source": [
        "#Running logistic regression on 10 random test/train splits with simplified model\n",
        "iter_num = 0\n",
        "\n",
        "for iter_num, (train_indices,test_indices) in enumerate(cv_object.split(X,Y)):\n",
        "    lr_clf_new.fit(X[train_indices],Y[train_indices])\n",
        "    y_hat = lr_clf_new.predict(X[test_indices])\n",
        "    \n",
        "    print('****Iteration',iter_num,'****')\n",
        "    print('Accuracy',mt.accuracy_score(Y[test_indices],y_hat))\n",
        "    print('Confusion Matrix \\n',mt.confusion_matrix(Y[test_indices],y_hat))\n",
        "    "
      ],
      "metadata": {
        "id": "BeXMjWtRxNif",
        "colab": {
          "base_uri": "https://localhost:8080/"
        },
        "outputId": "3b487510-5cb3-441e-e734-13ec430bcd9b"
      },
      "id": "BeXMjWtRxNif",
      "execution_count": null,
      "outputs": [
        {
          "output_type": "stream",
          "name": "stderr",
          "text": [
            "/usr/local/lib/python3.8/dist-packages/sklearn/linear_model/_logistic.py:814: ConvergenceWarning: lbfgs failed to converge (status=1):\n",
            "STOP: TOTAL NO. of ITERATIONS REACHED LIMIT.\n",
            "\n",
            "Increase the number of iterations (max_iter) or scale the data as shown in:\n",
            "    https://scikit-learn.org/stable/modules/preprocessing.html\n",
            "Please also refer to the documentation for alternative solver options:\n",
            "    https://scikit-learn.org/stable/modules/linear_model.html#logistic-regression\n",
            "  n_iter_i = _check_optimize_result(\n"
          ]
        },
        {
          "output_type": "stream",
          "name": "stdout",
          "text": [
            "****Iteration 0 ****\n",
            "Accuracy 0.7473770309707257\n",
            "Confusion Matrix \n",
            " [[28488 13809]\n",
            " [11208 45524]]\n"
          ]
        },
        {
          "output_type": "stream",
          "name": "stderr",
          "text": [
            "/usr/local/lib/python3.8/dist-packages/sklearn/linear_model/_logistic.py:814: ConvergenceWarning: lbfgs failed to converge (status=1):\n",
            "STOP: TOTAL NO. of ITERATIONS REACHED LIMIT.\n",
            "\n",
            "Increase the number of iterations (max_iter) or scale the data as shown in:\n",
            "    https://scikit-learn.org/stable/modules/preprocessing.html\n",
            "Please also refer to the documentation for alternative solver options:\n",
            "    https://scikit-learn.org/stable/modules/linear_model.html#logistic-regression\n",
            "  n_iter_i = _check_optimize_result(\n"
          ]
        },
        {
          "output_type": "stream",
          "name": "stdout",
          "text": [
            "****Iteration 1 ****\n",
            "Accuracy 0.7574245927960497\n",
            "Confusion Matrix \n",
            " [[29684 12939]\n",
            " [11083 45323]]\n"
          ]
        },
        {
          "output_type": "stream",
          "name": "stderr",
          "text": [
            "/usr/local/lib/python3.8/dist-packages/sklearn/linear_model/_logistic.py:814: ConvergenceWarning: lbfgs failed to converge (status=1):\n",
            "STOP: TOTAL NO. of ITERATIONS REACHED LIMIT.\n",
            "\n",
            "Increase the number of iterations (max_iter) or scale the data as shown in:\n",
            "    https://scikit-learn.org/stable/modules/preprocessing.html\n",
            "Please also refer to the documentation for alternative solver options:\n",
            "    https://scikit-learn.org/stable/modules/linear_model.html#logistic-regression\n",
            "  n_iter_i = _check_optimize_result(\n"
          ]
        },
        {
          "output_type": "stream",
          "name": "stdout",
          "text": [
            "****Iteration 2 ****\n",
            "Accuracy 0.7413181997192742\n",
            "Confusion Matrix \n",
            " [[27622 14453]\n",
            " [11164 45790]]\n"
          ]
        },
        {
          "output_type": "stream",
          "name": "stderr",
          "text": [
            "/usr/local/lib/python3.8/dist-packages/sklearn/linear_model/_logistic.py:814: ConvergenceWarning: lbfgs failed to converge (status=1):\n",
            "STOP: TOTAL NO. of ITERATIONS REACHED LIMIT.\n",
            "\n",
            "Increase the number of iterations (max_iter) or scale the data as shown in:\n",
            "    https://scikit-learn.org/stable/modules/preprocessing.html\n",
            "Please also refer to the documentation for alternative solver options:\n",
            "    https://scikit-learn.org/stable/modules/linear_model.html#logistic-regression\n",
            "  n_iter_i = _check_optimize_result(\n"
          ]
        },
        {
          "output_type": "stream",
          "name": "stdout",
          "text": [
            "****Iteration 3 ****\n",
            "Accuracy 0.7519918407739147\n",
            "Confusion Matrix \n",
            " [[29471 13086]\n",
            " [11474 44998]]\n"
          ]
        },
        {
          "output_type": "stream",
          "name": "stderr",
          "text": [
            "/usr/local/lib/python3.8/dist-packages/sklearn/linear_model/_logistic.py:814: ConvergenceWarning: lbfgs failed to converge (status=1):\n",
            "STOP: TOTAL NO. of ITERATIONS REACHED LIMIT.\n",
            "\n",
            "Increase the number of iterations (max_iter) or scale the data as shown in:\n",
            "    https://scikit-learn.org/stable/modules/preprocessing.html\n",
            "Please also refer to the documentation for alternative solver options:\n",
            "    https://scikit-learn.org/stable/modules/linear_model.html#logistic-regression\n",
            "  n_iter_i = _check_optimize_result(\n"
          ]
        },
        {
          "output_type": "stream",
          "name": "stdout",
          "text": [
            "****Iteration 4 ****\n",
            "Accuracy 0.7480334043562997\n",
            "Confusion Matrix \n",
            " [[28630 13792]\n",
            " [11160 45447]]\n"
          ]
        },
        {
          "output_type": "stream",
          "name": "stderr",
          "text": [
            "/usr/local/lib/python3.8/dist-packages/sklearn/linear_model/_logistic.py:814: ConvergenceWarning: lbfgs failed to converge (status=1):\n",
            "STOP: TOTAL NO. of ITERATIONS REACHED LIMIT.\n",
            "\n",
            "Increase the number of iterations (max_iter) or scale the data as shown in:\n",
            "    https://scikit-learn.org/stable/modules/preprocessing.html\n",
            "Please also refer to the documentation for alternative solver options:\n",
            "    https://scikit-learn.org/stable/modules/linear_model.html#logistic-regression\n",
            "  n_iter_i = _check_optimize_result(\n"
          ]
        },
        {
          "output_type": "stream",
          "name": "stdout",
          "text": [
            "****Iteration 5 ****\n",
            "Accuracy 0.7584343980046249\n",
            "Confusion Matrix \n",
            " [[29509 12856]\n",
            " [11066 45598]]\n"
          ]
        },
        {
          "output_type": "stream",
          "name": "stderr",
          "text": [
            "/usr/local/lib/python3.8/dist-packages/sklearn/linear_model/_logistic.py:814: ConvergenceWarning: lbfgs failed to converge (status=1):\n",
            "STOP: TOTAL NO. of ITERATIONS REACHED LIMIT.\n",
            "\n",
            "Increase the number of iterations (max_iter) or scale the data as shown in:\n",
            "    https://scikit-learn.org/stable/modules/preprocessing.html\n",
            "Please also refer to the documentation for alternative solver options:\n",
            "    https://scikit-learn.org/stable/modules/linear_model.html#logistic-regression\n",
            "  n_iter_i = _check_optimize_result(\n"
          ]
        },
        {
          "output_type": "stream",
          "name": "stdout",
          "text": [
            "****Iteration 6 ****\n",
            "Accuracy 0.7592725363277424\n",
            "Confusion Matrix \n",
            " [[29577 12841]\n",
            " [10998 45613]]\n"
          ]
        },
        {
          "output_type": "stream",
          "name": "stderr",
          "text": [
            "/usr/local/lib/python3.8/dist-packages/sklearn/linear_model/_logistic.py:814: ConvergenceWarning: lbfgs failed to converge (status=1):\n",
            "STOP: TOTAL NO. of ITERATIONS REACHED LIMIT.\n",
            "\n",
            "Increase the number of iterations (max_iter) or scale the data as shown in:\n",
            "    https://scikit-learn.org/stable/modules/preprocessing.html\n",
            "Please also refer to the documentation for alternative solver options:\n",
            "    https://scikit-learn.org/stable/modules/linear_model.html#logistic-regression\n",
            "  n_iter_i = _check_optimize_result(\n"
          ]
        },
        {
          "output_type": "stream",
          "name": "stdout",
          "text": [
            "****Iteration 7 ****\n",
            "Accuracy 0.7374910379787739\n",
            "Confusion Matrix \n",
            " [[27671 14801]\n",
            " [11195 45362]]\n"
          ]
        },
        {
          "output_type": "stream",
          "name": "stderr",
          "text": [
            "/usr/local/lib/python3.8/dist-packages/sklearn/linear_model/_logistic.py:814: ConvergenceWarning: lbfgs failed to converge (status=1):\n",
            "STOP: TOTAL NO. of ITERATIONS REACHED LIMIT.\n",
            "\n",
            "Increase the number of iterations (max_iter) or scale the data as shown in:\n",
            "    https://scikit-learn.org/stable/modules/preprocessing.html\n",
            "Please also refer to the documentation for alternative solver options:\n",
            "    https://scikit-learn.org/stable/modules/linear_model.html#logistic-regression\n",
            "  n_iter_i = _check_optimize_result(\n"
          ]
        },
        {
          "output_type": "stream",
          "name": "stdout",
          "text": [
            "****Iteration 8 ****\n",
            "Accuracy 0.7533853719617486\n",
            "Confusion Matrix \n",
            " [[28699 13731]\n",
            " [10691 45908]]\n",
            "****Iteration 9 ****\n",
            "Accuracy 0.7541528239202658\n",
            "Confusion Matrix \n",
            " [[29482 13183]\n",
            " [11163 45201]]\n"
          ]
        },
        {
          "output_type": "stream",
          "name": "stderr",
          "text": [
            "/usr/local/lib/python3.8/dist-packages/sklearn/linear_model/_logistic.py:814: ConvergenceWarning: lbfgs failed to converge (status=1):\n",
            "STOP: TOTAL NO. of ITERATIONS REACHED LIMIT.\n",
            "\n",
            "Increase the number of iterations (max_iter) or scale the data as shown in:\n",
            "    https://scikit-learn.org/stable/modules/preprocessing.html\n",
            "Please also refer to the documentation for alternative solver options:\n",
            "    https://scikit-learn.org/stable/modules/linear_model.html#logistic-regression\n",
            "  n_iter_i = _check_optimize_result(\n"
          ]
        }
      ]
    },
    {
      "cell_type": "markdown",
      "source": [
        "## Interpret Feature Importance 30\n",
        "\n",
        "Use the weights from logistic regression to interpret the importance of different features for the classification task. Explain your interpretation in detail. Why do you think some variables are more important?"
      ],
      "metadata": {
        "id": "5M-XYvRzh_Id"
      },
      "id": "5M-XYvRzh_Id"
    },
    {
      "cell_type": "markdown",
      "id": "a558f61e",
      "metadata": {
        "id": "a558f61e"
      },
      "source": [
        "## Looking at weights of the model"
      ]
    },
    {
      "cell_type": "code",
      "execution_count": null,
      "id": "7f74ab89",
      "metadata": {
        "id": "7f74ab89",
        "colab": {
          "base_uri": "https://localhost:8080/"
        },
        "outputId": "e2567225-ad68-4ad7-8706-75b7cb6bdf28"
      },
      "outputs": [
        {
          "output_type": "stream",
          "name": "stdout",
          "text": [
            "treeType has weight of -0.008091646234095607\n",
            "Elevation has weight of -0.0007445785326487877\n",
            "Horizontal_Distance_To_Fire_Points has weight of 0.10778110672300177\n",
            "Soil_Type32 has weight of 0.002845857827168386\n",
            "Soil_Type4 has weight of 0.0006102651178818677\n",
            "Soil_Type2 has weight of 2.153616418616753e-05\n",
            "Soil_Type23 has weight of 0.06924963742059297\n",
            "Soil_Type29 has weight of 0.004695529587159764\n",
            "Soil_Type33 has weight of 0.047656483324137744\n",
            "Soil_Type31 has weight of 2.8982219219835415e-07\n",
            "Soil_Type22 has weight of -4.847403177666305e-05\n",
            "Horizontal_Distance_To_Roadways has weight of -0.000549816410821631\n",
            "Comanche_Peak has weight of 0.0016366394340241758\n",
            "Rawah has weight of 0.00013316637742155388\n",
            "Horizontal_Distance_To_Hydrology has weight of 0.0\n",
            "Hillshade_Noon has weight of 2.9277631870266794e-05\n",
            "Aspect has weight of 4.007537392841114e-05\n",
            "Slope has weight of 9.74065868746987e-05\n"
          ]
        }
      ],
      "source": [
        "weights = lr_clf_new.coef_.T\n",
        "varNames = forestDF_new.columns\n",
        "for coef, name in zip(weights, varNames):\n",
        "    print(name, 'has weight of', coef[0])"
      ]
    },
    {
      "cell_type": "markdown",
      "source": [
        "The weights from the logistic regression model help us identify the importance of the various features. Having so many differnet features, it can be nice to see which ones impact the classification more so than others. This way, we can use those of utomst importance to create a better/more accurate model. \n",
        "\n",
        "We can see from the graph these weights for the various features quite nicely. The graph shows us that 'Elevation' has the largest absolute value. This allows us to assume that it plays the largest role in classification, in regard to all the other features in this dataset. Cache la Poudre is the next highest value. \n",
        "\n",
        "We believe that certain features have higher weights due to their immediate connection with the clasification. The Spruce/Fir trees grow best in certain conditions; some of these conditions are listed in the features. We believe that elevation is a key driver in identifying whether a tree is a Spruce/Fir. Similarly, we believe that other features directly connect to Spruce/Fir - like soil type.   "
      ],
      "metadata": {
        "id": "-EZ0E2o54Hmq"
      },
      "id": "-EZ0E2o54Hmq"
    },
    {
      "cell_type": "markdown",
      "id": "e49c6293",
      "metadata": {
        "id": "e49c6293"
      },
      "source": [
        "# Support Vector Machine"
      ]
    },
    {
      "cell_type": "markdown",
      "id": "6f16474f",
      "metadata": {
        "id": "6f16474f"
      },
      "source": [
        "### Creating and running the SVM using the scaled and split sets from earlier"
      ]
    },
    {
      "cell_type": "code",
      "execution_count": null,
      "id": "2ffcba57",
      "metadata": {
        "id": "2ffcba57"
      },
      "outputs": [],
      "source": [
        "# Creating Cross Validation Object - SVM\n",
        "cv_CGD = StratifiedShuffleSplit(n_splits = 3, test_size = 0.2)"
      ]
    },
    {
      "cell_type": "code",
      "source": [
        "#Creating SVM using linear SGD due to large amount of data\n",
        "regularize_const = 0.1\n",
        "iterations = 10\n",
        "\n",
        "svm_sgd = SGDClassifier(alpha=regularize_const,\n",
        "                       fit_intercept = True,\n",
        "                       l1_ratio = 0.0,\n",
        "                       learning_rate = 'optimal',\n",
        "                       loss = 'hinge',\n",
        "                       max_iter = iterations,\n",
        "                       n_jobs = -1,\n",
        "                       penalty = 'l2')"
      ],
      "metadata": {
        "id": "BxrjmAXb6kfH"
      },
      "id": "BxrjmAXb6kfH",
      "execution_count": null,
      "outputs": []
    },
    {
      "cell_type": "code",
      "source": [
        "scl = StandardScaler()\n",
        "\n",
        "for train_idx, test_idx in cv_CGD.split(X,Y):\n",
        "    svm_sgd.fit(scl.fit_transform(X[train_idx]), Y[train_idx])\n",
        "    y_hatSVM = svm_sgd.predict(scl.transform(X[test_idx]))\n",
        "    \n",
        "    print('Accuracy', mt.accuracy_score(Y[test_idx], y_hatSVM))\n",
        "    print('Confusion Matrix \\n', mt.confusion_matrix(Y[test_idx], y_hatSVM))"
      ],
      "metadata": {
        "id": "xPxkd8s-HT_P",
        "colab": {
          "base_uri": "https://localhost:8080/"
        },
        "outputId": "a6c8c72d-fd2a-4d86-839d-2bff130bd956"
      },
      "id": "xPxkd8s-HT_P",
      "execution_count": null,
      "outputs": [
        {
          "output_type": "stream",
          "name": "stdout",
          "text": [
            "Accuracy 0.764432640943562\n",
            "Confusion Matrix \n",
            " [[27829 14539]\n",
            " [ 8789 47872]]\n",
            "Accuracy 0.7652707792666794\n",
            "Confusion Matrix \n",
            " [[27955 14413]\n",
            " [ 8832 47829]]\n",
            "Accuracy 0.7650385240687071\n",
            "Confusion Matrix \n",
            " [[27928 14440]\n",
            " [ 8828 47833]]\n"
          ]
        }
      ]
    },
    {
      "cell_type": "code",
      "source": [
        "SVMWeights = pd.Series(svm_sgd.coef_[0], index = forestDF.columns)\n",
        "SVMWeights = pd.DataFrame({'Var':SVMWeights.index, 'Weight':SVMWeights.values})\n",
        "SVMWeights = SVMWeights.sort_values('Weight')\n",
        "plt.figure(figsize = (8, 10))\n",
        "sns.barplot(x = 'Weight', y = 'Var', data = SVMWeights)"
      ],
      "metadata": {
        "id": "mkBpCba96qIl",
        "colab": {
          "base_uri": "https://localhost:8080/",
          "height": 624
        },
        "outputId": "237d8b63-b008-40bc-ed2c-176ad255e3b0"
      },
      "id": "mkBpCba96qIl",
      "execution_count": null,
      "outputs": [
        {
          "output_type": "execute_result",
          "data": {
            "text/plain": [
              "<matplotlib.axes._subplots.AxesSubplot at 0x7fefbc8379d0>"
            ]
          },
          "metadata": {},
          "execution_count": 130
        },
        {
          "output_type": "display_data",
          "data": {
            "text/plain": [
              "<Figure size 576x720 with 1 Axes>"
            ],
            "image/png": "[encoded data removed]"
          },
          "metadata": {
            "needs_background": "light"
          }
        }
      ]
    },
    {
      "cell_type": "code",
      "source": [
        "# Creating SVM using logistic SGD due to large amount of data\n",
        "log_sgd = SGDClassifier(alpha = regularize_const,\n",
        "                       fit_intercept = True,\n",
        "                       l1_ratio = 0.0,\n",
        "                       learning_rate = 'optimal',\n",
        "                       loss = 'log',\n",
        "                       max_iter = iterations,\n",
        "                       n_jobs = -1,\n",
        "                       penalty = 'l2')"
      ],
      "metadata": {
        "id": "UwmBAvQ0txqD"
      },
      "id": "UwmBAvQ0txqD",
      "execution_count": null,
      "outputs": []
    },
    {
      "cell_type": "code",
      "source": [
        "scl = StandardScaler()\n",
        "\n",
        "for train_idx, test_idx in cv_CGD.split(X,Y):\n",
        "    log_sgd.fit(scl.fit_transform(X[train_idx]), Y[train_idx])\n",
        "    y_hatSVM = log_sgd.predict(scl.transform(X[test_idx]))\n",
        "    \n",
        "    print('Accuracy', mt.accuracy_score(Y[test_idx], y_hatSVM))\n",
        "    print('Confusion Matrix \\n', mt.confusion_matrix(Y[test_idx], y_hatSVM))"
      ],
      "metadata": {
        "id": "-sj_a7y4t30z",
        "colab": {
          "base_uri": "https://localhost:8080/"
        },
        "outputId": "cfb97669-199c-4211-dda8-6202c9c97f8c"
      },
      "id": "-sj_a7y4t30z",
      "execution_count": null,
      "outputs": [
        {
          "output_type": "stream",
          "name": "stdout",
          "text": [
            "Accuracy 0.7655030344646517\n",
            "Confusion Matrix \n",
            " [[27673 14695]\n",
            " [ 8527 48134]]\n",
            "Accuracy 0.7629785214432137\n",
            "Confusion Matrix \n",
            " [[27542 14826]\n",
            " [ 8646 48015]]\n",
            "Accuracy 0.7636853850892162\n",
            "Confusion Matrix \n",
            " [[27377 14991]\n",
            " [ 8411 48250]]\n"
          ]
        }
      ]
    },
    {
      "cell_type": "code",
      "source": [
        "logSVMWeights = pd.Series(log_sgd.coef_[0],index = forestDF.columns)\n",
        "logSVMWeights = pd.DataFrame({'Var':logSVMWeights.index, 'Weight':logSVMWeights.values})\n",
        "logSVMWeights = logSVMWeights.sort_values('Weight')\n",
        "plt.figure(figsize = (8, 10))\n",
        "sns.barplot(x = 'Weight', y = 'Var', data = logSVMWeights)"
      ],
      "metadata": {
        "id": "1VH7qxQ8tzQ-",
        "colab": {
          "base_uri": "https://localhost:8080/",
          "height": 624
        },
        "outputId": "6657249d-15fd-420c-c734-d53d2b950ca3"
      },
      "id": "1VH7qxQ8tzQ-",
      "execution_count": null,
      "outputs": [
        {
          "output_type": "execute_result",
          "data": {
            "text/plain": [
              "<matplotlib.axes._subplots.AxesSubplot at 0x7fefb56bb190>"
            ]
          },
          "metadata": {},
          "execution_count": 133
        },
        {
          "output_type": "display_data",
          "data": {
            "text/plain": [
              "<Figure size 576x720 with 1 Axes>"
            ],
            "image/png": "[encoded data removed]"
          },
          "metadata": {
            "needs_background": "light"
          }
        }
      ]
    },
    {
      "cell_type": "code",
      "source": [
        "# Sub-sampling data and verifying still balanced\n",
        "forestSubDF = forestFullDF.sample(10000)\n",
        "forestSubDF.head()\n",
        "# forestSubDF['treeType'].describe().transpose()\n",
        "forestSubDF.groupby('treeType').count()"
      ],
      "metadata": {
        "id": "BuYdqQIR965A",
        "colab": {
          "base_uri": "https://localhost:8080/",
          "height": 242
        },
        "outputId": "b31ecd64-6409-46e3-8e1c-1423df27df35"
      },
      "id": "BuYdqQIR965A",
      "execution_count": null,
      "outputs": [
        {
          "output_type": "execute_result",
          "data": {
            "text/plain": [
              "          Elevation  Aspect  Slope  Horizontal_Distance_To_Hydrology  \\\n",
              "treeType                                                               \n",
              "0              4278    4278   4278                              4278   \n",
              "1              5722    5722   5722                              5722   \n",
              "\n",
              "          Vertical_Distance_To_Hydrology  Horizontal_Distance_To_Roadways  \\\n",
              "treeType                                                                    \n",
              "0                                   4278                             4278   \n",
              "1                                   5722                             5722   \n",
              "\n",
              "          Hillshade_9am  Hillshade_Noon  Hillshade_3pm  \\\n",
              "treeType                                                 \n",
              "0                  4278            4278           4278   \n",
              "1                  5722            5722           5722   \n",
              "\n",
              "          Horizontal_Distance_To_Fire_Points  Rawah  Neota  Comanche Peak  \\\n",
              "treeType                                                                    \n",
              "0                                       4278   4278   4278           4278   \n",
              "1                                       5722   5722   5722           5722   \n",
              "\n",
              "          Cache la Poudre  Soil_Type1  Soil_Type2  Soil_Type3  Soil_Type4  \\\n",
              "treeType                                                                    \n",
              "0                    4278        4278        4278        4278        4278   \n",
              "1                    5722        5722        5722        5722        5722   \n",
              "\n",
              "          Soil_Type5  Soil_Type6  Soil_Type7  Soil_Type8  Soil_Type9  \\\n",
              "treeType                                                               \n",
              "0               4278        4278        4278        4278        4278   \n",
              "1               5722        5722        5722        5722        5722   \n",
              "\n",
              "          Soil_Type10  Soil_Type11  Soil_Type12  Soil_Type13  Soil_Type14  \\\n",
              "treeType                                                                    \n",
              "0                4278         4278         4278         4278         4278   \n",
              "1                5722         5722         5722         5722         5722   \n",
              "\n",
              "          Soil_Type15  Soil_Type16  Soil_Type17  Soil_Type18  Soil_Type19  \\\n",
              "treeType                                                                    \n",
              "0                4278         4278         4278         4278         4278   \n",
              "1                5722         5722         5722         5722         5722   \n",
              "\n",
              "          Soil_Type20  Soil_Type21  Soil_Type22  Soil_Type23  Soil_Type24  \\\n",
              "treeType                                                                    \n",
              "0                4278         4278         4278         4278         4278   \n",
              "1                5722         5722         5722         5722         5722   \n",
              "\n",
              "          Soil_Type25  Soil_Type26  Soil_Type27  Soil_Type28  Soil_Type29  \\\n",
              "treeType                                                                    \n",
              "0                4278         4278         4278         4278         4278   \n",
              "1                5722         5722         5722         5722         5722   \n",
              "\n",
              "          Soil_Type30  Soil_Type31  Soil_Type32  Soil_Type33  Soil_Type34  \\\n",
              "treeType                                                                    \n",
              "0                4278         4278         4278         4278         4278   \n",
              "1                5722         5722         5722         5722         5722   \n",
              "\n",
              "          Soil_Type35  Soil_Type36  Soil_Type37  Soil_Type38  Soil_Type39  \\\n",
              "treeType                                                                    \n",
              "0                4278         4278         4278         4278         4278   \n",
              "1                5722         5722         5722         5722         5722   \n",
              "\n",
              "          Soil_Type40  \n",
              "treeType               \n",
              "0                4278  \n",
              "1                5722  "
            ],
            "text/html": [
              "\n",
              "  <div id=\"df-7cee7eec-be25-4eab-b010-648e443d4dbd\">\n",
              "    <div class=\"colab-df-container\">\n",
              "      <div>\n",
              "<style scoped>\n",
              "    .dataframe tbody tr th:only-of-type {\n",
              "        vertical-align: middle;\n",
              "    }\n",
              "\n",
              "    .dataframe tbody tr th {\n",
              "        vertical-align: top;\n",
              "    }\n",
              "\n",
              "    .dataframe thead th {\n",
              "        text-align: right;\n",
              "    }\n",
              "</style>\n",
              "<table border=\"1\" class=\"dataframe\">\n",
              "  <thead>\n",
              "    <tr style=\"text-align: right;\">\n",
              "      <th></th>\n",
              "      <th>Elevation</th>\n",
              "      <th>Aspect</th>\n",
              "      <th>Slope</th>\n",
              "      <th>Horizontal_Distance_To_Hydrology</th>\n",
              "      <th>Vertical_Distance_To_Hydrology</th>\n",
              "      <th>Horizontal_Distance_To_Roadways</th>\n",
              "      <th>Hillshade_9am</th>\n",
              "      <th>Hillshade_Noon</th>\n",
              "      <th>Hillshade_3pm</th>\n",
              "      <th>Horizontal_Distance_To_Fire_Points</th>\n",
              "      <th>Rawah</th>\n",
              "      <th>Neota</th>\n",
              "      <th>Comanche Peak</th>\n",
              "      <th>Cache la Poudre</th>\n",
              "      <th>Soil_Type1</th>\n",
              "      <th>Soil_Type2</th>\n",
              "      <th>Soil_Type3</th>\n",
              "      <th>Soil_Type4</th>\n",
              "      <th>Soil_Type5</th>\n",
              "      <th>Soil_Type6</th>\n",
              "      <th>Soil_Type7</th>\n",
              "      <th>Soil_Type8</th>\n",
              "      <th>Soil_Type9</th>\n",
              "      <th>Soil_Type10</th>\n",
              "      <th>Soil_Type11</th>\n",
              "      <th>Soil_Type12</th>\n",
              "      <th>Soil_Type13</th>\n",
              "      <th>Soil_Type14</th>\n",
              "      <th>Soil_Type15</th>\n",
              "      <th>Soil_Type16</th>\n",
              "      <th>Soil_Type17</th>\n",
              "      <th>Soil_Type18</th>\n",
              "      <th>Soil_Type19</th>\n",
              "      <th>Soil_Type20</th>\n",
              "      <th>Soil_Type21</th>\n",
              "      <th>Soil_Type22</th>\n",
              "      <th>Soil_Type23</th>\n",
              "      <th>Soil_Type24</th>\n",
              "      <th>Soil_Type25</th>\n",
              "      <th>Soil_Type26</th>\n",
              "      <th>Soil_Type27</th>\n",
              "      <th>Soil_Type28</th>\n",
              "      <th>Soil_Type29</th>\n",
              "      <th>Soil_Type30</th>\n",
              "      <th>Soil_Type31</th>\n",
              "      <th>Soil_Type32</th>\n",
              "      <th>Soil_Type33</th>\n",
              "      <th>Soil_Type34</th>\n",
              "      <th>Soil_Type35</th>\n",
              "      <th>Soil_Type36</th>\n",
              "      <th>Soil_Type37</th>\n",
              "      <th>Soil_Type38</th>\n",
              "      <th>Soil_Type39</th>\n",
              "      <th>Soil_Type40</th>\n",
              "    </tr>\n",
              "    <tr>\n",
              "      <th>treeType</th>\n",
              "      <th></th>\n",
              "      <th></th>\n",
              "      <th></th>\n",
              "      <th></th>\n",
              "      <th></th>\n",
              "      <th></th>\n",
              "      <th></th>\n",
              "      <th></th>\n",
              "      <th></th>\n",
              "      <th></th>\n",
              "      <th></th>\n",
              "      <th></th>\n",
              "      <th></th>\n",
              "      <th></th>\n",
              "      <th></th>\n",
              "      <th></th>\n",
              "      <th></th>\n",
              "      <th></th>\n",
              "      <th></th>\n",
              "      <th></th>\n",
              "      <th></th>\n",
              "      <th></th>\n",
              "      <th></th>\n",
              "      <th></th>\n",
              "      <th></th>\n",
              "      <th></th>\n",
              "      <th></th>\n",
              "      <th></th>\n",
              "      <th></th>\n",
              "      <th></th>\n",
              "      <th></th>\n",
              "      <th></th>\n",
              "      <th></th>\n",
              "      <th></th>\n",
              "      <th></th>\n",
              "      <th></th>\n",
              "      <th></th>\n",
              "      <th></th>\n",
              "      <th></th>\n",
              "      <th></th>\n",
              "      <th></th>\n",
              "      <th></th>\n",
              "      <th></th>\n",
              "      <th></th>\n",
              "      <th></th>\n",
              "      <th></th>\n",
              "      <th></th>\n",
              "      <th></th>\n",
              "      <th></th>\n",
              "      <th></th>\n",
              "      <th></th>\n",
              "      <th></th>\n",
              "      <th></th>\n",
              "      <th></th>\n",
              "    </tr>\n",
              "  </thead>\n",
              "  <tbody>\n",
              "    <tr>\n",
              "      <th>0</th>\n",
              "      <td>4278</td>\n",
              "      <td>4278</td>\n",
              "      <td>4278</td>\n",
              "      <td>4278</td>\n",
              "      <td>4278</td>\n",
              "      <td>4278</td>\n",
              "      <td>4278</td>\n",
              "      <td>4278</td>\n",
              "      <td>4278</td>\n",
              "      <td>4278</td>\n",
              "      <td>4278</td>\n",
              "      <td>4278</td>\n",
              "      <td>4278</td>\n",
              "      <td>4278</td>\n",
              "      <td>4278</td>\n",
              "      <td>4278</td>\n",
              "      <td>4278</td>\n",
              "      <td>4278</td>\n",
              "      <td>4278</td>\n",
              "      <td>4278</td>\n",
              "      <td>4278</td>\n",
              "      <td>4278</td>\n",
              "      <td>4278</td>\n",
              "      <td>4278</td>\n",
              "      <td>4278</td>\n",
              "      <td>4278</td>\n",
              "      <td>4278</td>\n",
              "      <td>4278</td>\n",
              "      <td>4278</td>\n",
              "      <td>4278</td>\n",
              "      <td>4278</td>\n",
              "      <td>4278</td>\n",
              "      <td>4278</td>\n",
              "      <td>4278</td>\n",
              "      <td>4278</td>\n",
              "      <td>4278</td>\n",
              "      <td>4278</td>\n",
              "      <td>4278</td>\n",
              "      <td>4278</td>\n",
              "      <td>4278</td>\n",
              "      <td>4278</td>\n",
              "      <td>4278</td>\n",
              "      <td>4278</td>\n",
              "      <td>4278</td>\n",
              "      <td>4278</td>\n",
              "      <td>4278</td>\n",
              "      <td>4278</td>\n",
              "      <td>4278</td>\n",
              "      <td>4278</td>\n",
              "      <td>4278</td>\n",
              "      <td>4278</td>\n",
              "      <td>4278</td>\n",
              "      <td>4278</td>\n",
              "      <td>4278</td>\n",
              "    </tr>\n",
              "    <tr>\n",
              "      <th>1</th>\n",
              "      <td>5722</td>\n",
              "      <td>5722</td>\n",
              "      <td>5722</td>\n",
              "      <td>5722</td>\n",
              "      <td>5722</td>\n",
              "      <td>5722</td>\n",
              "      <td>5722</td>\n",
              "      <td>5722</td>\n",
              "      <td>5722</td>\n",
              "      <td>5722</td>\n",
              "      <td>5722</td>\n",
              "      <td>5722</td>\n",
              "      <td>5722</td>\n",
              "      <td>5722</td>\n",
              "      <td>5722</td>\n",
              "      <td>5722</td>\n",
              "      <td>5722</td>\n",
              "      <td>5722</td>\n",
              "      <td>5722</td>\n",
              "      <td>5722</td>\n",
              "      <td>5722</td>\n",
              "      <td>5722</td>\n",
              "      <td>5722</td>\n",
              "      <td>5722</td>\n",
              "      <td>5722</td>\n",
              "      <td>5722</td>\n",
              "      <td>5722</td>\n",
              "      <td>5722</td>\n",
              "      <td>5722</td>\n",
              "      <td>5722</td>\n",
              "      <td>5722</td>\n",
              "      <td>5722</td>\n",
              "      <td>5722</td>\n",
              "      <td>5722</td>\n",
              "      <td>5722</td>\n",
              "      <td>5722</td>\n",
              "      <td>5722</td>\n",
              "      <td>5722</td>\n",
              "      <td>5722</td>\n",
              "      <td>5722</td>\n",
              "      <td>5722</td>\n",
              "      <td>5722</td>\n",
              "      <td>5722</td>\n",
              "      <td>5722</td>\n",
              "      <td>5722</td>\n",
              "      <td>5722</td>\n",
              "      <td>5722</td>\n",
              "      <td>5722</td>\n",
              "      <td>5722</td>\n",
              "      <td>5722</td>\n",
              "      <td>5722</td>\n",
              "      <td>5722</td>\n",
              "      <td>5722</td>\n",
              "      <td>5722</td>\n",
              "    </tr>\n",
              "  </tbody>\n",
              "</table>\n",
              "</div>\n",
              "      <button class=\"colab-df-convert\" onclick=\"convertToInteractive('df-7cee7eec-be25-4eab-b010-648e443d4dbd')\"\n",
              "              title=\"Convert this dataframe to an interactive table.\"\n",
              "              style=\"display:none;\">\n",
              "        \n",
              "  <svg xmlns=\"http://www.w3.org/2000/svg\" height=\"24px\"viewBox=\"0 0 24 24\"\n",
              "       width=\"24px\">\n",
              "    <path d=\"M0 0h24v24H0V0z\" fill=\"none\"/>\n",
              "    <path d=\"M18.56 5.44l.94 2.06.94-2.06 2.06-.94-2.06-.94-.94-2.06-.94 2.06-2.06.94zm-11 1L8.5 8.5l.94-2.06 2.06-.94-2.06-.94L8.5 2.5l-.94 2.06-2.06.94zm10 10l.94 2.06.94-2.06 2.06-.94-2.06-.94-.94-2.06-.94 2.06-2.06.94z\"/><path d=\"M17.41 7.96l-1.37-1.37c-.4-.4-.92-.59-1.43-.59-.52 0-1.04.2-1.43.59L10.3 9.45l-7.72 7.72c-.78.78-.78 2.05 0 2.83L4 21.41c.39.39.9.59 1.41.59.51 0 1.02-.2 1.41-.59l7.78-7.78 2.81-2.81c.8-.78.8-2.07 0-2.86zM5.41 20L4 18.59l7.72-7.72 1.47 1.35L5.41 20z\"/>\n",
              "  </svg>\n",
              "      </button>\n",
              "      \n",
              "  <style>\n",
              "    .colab-df-container {\n",
              "      display:flex;\n",
              "      flex-wrap:wrap;\n",
              "      gap: 12px;\n",
              "    }\n",
              "\n",
              "    .colab-df-convert {\n",
              "      background-color: #E8F0FE;\n",
              "      border: none;\n",
              "      border-radius: 50%;\n",
              "      cursor: pointer;\n",
              "      display: none;\n",
              "      fill: #1967D2;\n",
              "      height: 32px;\n",
              "      padding: 0 0 0 0;\n",
              "      width: 32px;\n",
              "    }\n",
              "\n",
              "    .colab-df-convert:hover {\n",
              "      background-color: #E2EBFA;\n",
              "      box-shadow: 0px 1px 2px rgba(60, 64, 67, 0.3), 0px 1px 3px 1px rgba(60, 64, 67, 0.15);\n",
              "      fill: #174EA6;\n",
              "    }\n",
              "\n",
              "    [theme=dark] .colab-df-convert {\n",
              "      background-color: #3B4455;\n",
              "      fill: #D2E3FC;\n",
              "    }\n",
              "\n",
              "    [theme=dark] .colab-df-convert:hover {\n",
              "      background-color: #434B5C;\n",
              "      box-shadow: 0px 1px 3px 1px rgba(0, 0, 0, 0.15);\n",
              "      filter: drop-shadow(0px 1px 2px rgba(0, 0, 0, 0.3));\n",
              "      fill: #FFFFFF;\n",
              "    }\n",
              "  </style>\n",
              "\n",
              "      <script>\n",
              "        const buttonEl =\n",
              "          document.querySelector('#df-7cee7eec-be25-4eab-b010-648e443d4dbd button.colab-df-convert');\n",
              "        buttonEl.style.display =\n",
              "          google.colab.kernel.accessAllowed ? 'block' : 'none';\n",
              "\n",
              "        async function convertToInteractive(key) {\n",
              "          const element = document.querySelector('#df-7cee7eec-be25-4eab-b010-648e443d4dbd');\n",
              "          const dataTable =\n",
              "            await google.colab.kernel.invokeFunction('convertToInteractive',\n",
              "                                                     [key], {});\n",
              "          if (!dataTable) return;\n",
              "\n",
              "          const docLinkHtml = 'Like what you see? Visit the ' +\n",
              "            '<a target=\"_blank\" href=https://colab.research.google.com/notebooks/data_table.ipynb>data table notebook</a>'\n",
              "            + ' to learn more about interactive tables.';\n",
              "          element.innerHTML = '';\n",
              "          dataTable['output_type'] = 'display_data';\n",
              "          await google.colab.output.renderOutput(dataTable, element);\n",
              "          const docLink = document.createElement('div');\n",
              "          docLink.innerHTML = docLinkHtml;\n",
              "          element.appendChild(docLink);\n",
              "        }\n",
              "      </script>\n",
              "    </div>\n",
              "  </div>\n",
              "  "
            ]
          },
          "metadata": {},
          "execution_count": 134
        }
      ]
    },
    {
      "cell_type": "code",
      "source": [
        "# Creating and Running SVM model on smaller dataframe\n",
        "if 'treeType' in forestSubDF:\n",
        "    ySub = forestSubDF['treeType'].values\n",
        "    del forestSubDF['treeType']\n",
        "    xSub = forestSubDF.values"
      ],
      "metadata": {
        "id": "rGxKwi1y94oC"
      },
      "id": "rGxKwi1y94oC",
      "execution_count": null,
      "outputs": []
    },
    {
      "cell_type": "code",
      "source": [
        "num_cv_iter = 10\n",
        "num_instances = len(Y)\n",
        "cv_Log = ShuffleSplit(n_splits = num_cv_iter, test_size = 0.2)"
      ],
      "metadata": {
        "id": "EOa-acTd-u28"
      },
      "id": "EOa-acTd-u28",
      "execution_count": null,
      "outputs": []
    },
    {
      "cell_type": "code",
      "source": [
        "for train_indices, test_indices in cv_Log.split(xSub, ySub):\n",
        "    X_train = xSub[train_indices]\n",
        "    Y_train = ySub[train_indices]\n",
        "    X_test = xSub[test_indices]\n",
        "    Y_test = ySub[test_indices]\n",
        "X_train_scaled = sclObj.transform(X_train)\n",
        "X_test_scaled = sclObj.transform(X_test)"
      ],
      "metadata": {
        "id": "1RUT-VZC93Tv"
      },
      "id": "1RUT-VZC93Tv",
      "execution_count": null,
      "outputs": []
    },
    {
      "cell_type": "code",
      "source": [
        "\n",
        "svm_clf = SVC(C = 0.5,\n",
        "             kernel = 'rbf',\n",
        "             degree = 3,\n",
        "             gamma = 'auto')"
      ],
      "metadata": {
        "id": "1C76afxv92Cq"
      },
      "id": "1C76afxv92Cq",
      "execution_count": null,
      "outputs": []
    },
    {
      "cell_type": "code",
      "source": [
        "# Results\n",
        "svm_clf.fit(X_train_scaled,Y_train)\n",
        "y_hatSVM = svm_clf.predict(X_test_scaled)\n",
        "print('Accuracy', mt.accuracy_score(Y_test, y_hatSVM))\n",
        "print('Confusion Matrix \\n', mt.confusion_matrix(Y_test, y_hatSVM))"
      ],
      "metadata": {
        "id": "vhz2nI2q90kv",
        "colab": {
          "base_uri": "https://localhost:8080/"
        },
        "outputId": "fa2b6292-7e76-4542-ae7d-a946acb035be"
      },
      "id": "vhz2nI2q90kv",
      "execution_count": null,
      "outputs": [
        {
          "output_type": "stream",
          "name": "stdout",
          "text": [
            "Accuracy 0.782\n",
            "Confusion Matrix \n",
            " [[641 240]\n",
            " [196 923]]\n"
          ]
        }
      ]
    },
    {
      "cell_type": "code",
      "source": [
        "# Support Vector shape:\n",
        "print(svm_clf.support_vectors_.shape)\n",
        "print(svm_clf.support_.shape)\n",
        "print(svm_clf.n_support_)"
      ],
      "metadata": {
        "id": "Ro8Pk_3L9ylA",
        "colab": {
          "base_uri": "https://localhost:8080/"
        },
        "outputId": "3387c4df-86ed-4b8e-f992-e75551679b44"
      },
      "id": "Ro8Pk_3L9ylA",
      "execution_count": null,
      "outputs": [
        {
          "output_type": "stream",
          "name": "stdout",
          "text": [
            "(4558, 54)\n",
            "(4558,)\n",
            "[2272 2286]\n"
          ]
        }
      ]
    },
    {
      "cell_type": "code",
      "source": [
        "forestTested = forestSubDF.iloc[train_indices]\n",
        "forestSupport = forestTested.iloc[svm_clf.support_,:]\n",
        "forestSupport['treeType'] = ySub[svm_clf.support_]\n",
        "forestSubDF['treeType'] = ySub"
      ],
      "metadata": {
        "id": "F7Dldjd49uwK",
        "colab": {
          "base_uri": "https://localhost:8080/"
        },
        "outputId": "029fbbe3-5fd1-4569-f4aa-02afc360bc34"
      },
      "id": "F7Dldjd49uwK",
      "execution_count": null,
      "outputs": [
        {
          "output_type": "stream",
          "name": "stderr",
          "text": [
            "<ipython-input-141-24464350875f>:3: SettingWithCopyWarning: \n",
            "A value is trying to be set on a copy of a slice from a DataFrame.\n",
            "Try using .loc[row_indexer,col_indexer] = value instead\n",
            "\n",
            "See the caveats in the documentation: https://pandas.pydata.org/pandas-docs/stable/user_guide/indexing.html#returning-a-view-versus-a-copy\n",
            "  forestSupport['treeType'] = ySub[svm_clf.support_]\n"
          ]
        }
      ]
    },
    {
      "cell_type": "code",
      "source": [
        "forestGroupSupport = forestSupport.groupby(['treeType'])\n",
        "forestGroup = forestSubDF.groupby(['treeType'])\n",
        "\n",
        "vars_to_plot = ['Elevation', 'Hillshade_Noon', 'Soil_Type22', 'Soil_Type12']\n",
        "\n",
        "for v in vars_to_plot:\n",
        "    plt.figure(figsize = (10, 4))\n",
        "    plt.subplot(1, 2, 1)\n",
        "    ax = forestGroupSupport[v].plot.kde()\n",
        "    plt.legend(['Lodgepole Pine', 'Spruce/Fir'])\n",
        "    plt.title(v + ' (Instances chosen as Support Vectors)')\n",
        "    \n",
        "    plt.subplot(1,2,2)\n",
        "    ax = forestGroup[v].plot.kde()\n",
        "    plt.legend(['Lodgepole Pine', 'Spruce/Fir'])\n",
        "    plt.title(v + ' (Original)')"
      ],
      "metadata": {
        "id": "gQA-IoBM9rPN",
        "colab": {
          "base_uri": "https://localhost:8080/",
          "height": 1000
        },
        "outputId": "ddf7de17-fcc1-4424-8c01-5a0eb2b9efd5"
      },
      "id": "gQA-IoBM9rPN",
      "execution_count": null,
      "outputs": [
        {
          "output_type": "display_data",
          "data": {
            "text/plain": [
              "<Figure size 720x288 with 2 Axes>"
            ],
            "image/png": "[encoded data removed]"
          },
          "metadata": {
            "needs_background": "light"
          }
        },
        {
          "output_type": "display_data",
          "data": {
            "text/plain": [
              "<Figure size 720x288 with 2 Axes>"
            ],
            "image/png": "[encoded data removed]"
          },
          "metadata": {
            "needs_background": "light"
          }
        },
        {
          "output_type": "display_data",
          "data": {
            "text/plain": [
              "<Figure size 720x288 with 2 Axes>"
            ],
            "image/png": "[encoded data removed]"
          },
          "metadata": {
            "needs_background": "light"
          }
        },
        {
          "output_type": "display_data",
          "data": {
            "text/plain": [
              "<Figure size 720x288 with 2 Axes>"
            ],
            "image/png": "[encoded data removed]"
          },
          "metadata": {
            "needs_background": "light"
          }
        }
      ]
    },
    {
      "cell_type": "markdown",
      "source": [
        "\n",
        "## Create Models 50\n",
        "\n",
        "Create a logistic regression model and a support vector machine model for the classification task involved with your dataset. \n",
        "Assess how well each model performs (use 80/20 training/testing split for your data). \n",
        "Adjust parameters of the models to make them more accurate. \n",
        "If your dataset size requires the use of stochastic gradient descent, then linear kernel only is fine to use. \n",
        "That is, the SGDClassifier is fine to use for optimizing logistic regression and linear support vector machines. For many problems, SGD will be required in order to train the SVM model in a reasonable timeframe. "
      ],
      "metadata": {
        "id": "EETbe1z0Za28"
      },
      "id": "EETbe1z0Za28"
    },
    {
      "cell_type": "markdown",
      "source": [
        "The SVM performed better than the logistic regression model. We see that the SVM gave us an accuracy score of 76%. This is a decent amount higher than the logistic score of 61%. We feel like there is still some room for improvement, but we are glad that we are seeing a higher accuracy score. "
      ],
      "metadata": {
        "id": "XG8RpRX_ZcC6"
      },
      "id": "XG8RpRX_ZcC6"
    },
    {
      "cell_type": "markdown",
      "source": [
        "## Interpret Support Vectors(10)\n",
        "\n",
        "Look at the chosen support vectors for the classification task. Do these provide any insight into the data? Explain. If you used stochastic gradient descent (and therefore did not explicitly solve for support vectors), try subsampling your data to train the SVC model— then analyze the support vectors from the subsampled dataset."
      ],
      "metadata": {
        "id": "IeTkwGHYiUyW"
      },
      "id": "IeTkwGHYiUyW"
    },
    {
      "cell_type": "markdown",
      "source": [
        "Looking at some of the support vectors that were chosen, we can see that they greatly affect the outcome of the calssification. The graphs above do a great job illustrating the change in accuracy when comparing the original and the Support Vector. The chosen support vectors allow us to maximise the margin between vectors. This means that our classification plane is as wide as possible. This helps us to better classify, without having too many outliers or misclassifications. "
      ],
      "metadata": {
        "id": "hYUF-om66b6s"
      },
      "id": "hYUF-om66b6s"
    },
    {
      "cell_type": "markdown",
      "source": [
        "## Model Advantages 10\n",
        "Discuss the advantages of each model for each classification task. Does one type of model offer superior performance over another in terms of prediction accuracy? In terms of training time or efficiency? Explain in detail."
      ],
      "metadata": {
        "id": "ZDkhl8Y-h3f_"
      },
      "id": "ZDkhl8Y-h3f_"
    },
    {
      "cell_type": "markdown",
      "source": [
        "The interpretability of Logistic Regression was fairly easy and understandable. This model also allowed for an easier way to see various accuracy scores for different train/test splits. We were able to create a loop that goes through different train/test splits and run logistic regression on each one to compare accuracy scores. This helps us to understand the average accuracy, due to the chance a specific train/test split gives an anomaly.\n",
        "\n",
        "The SVM model provided a better accuracy score, which shows its superiority to Logistic Regression in this particular case. And using certain plots, it is easier to visually see the outcome of the model. The SVM seemed to be slightly quicker than Logistic Regression as well. We can see that both models are decently quick to run, but the SVM is faster. "
      ],
      "metadata": {
        "id": "Yxt3r6dQa3NC"
      },
      "id": "Yxt3r6dQa3NC"
    }
  ],
  "metadata": {
    "kernelspec": {
      "display_name": "Python 3 (ipykernel)",
      "language": "python",
      "name": "python3"
    },
    "language_info": {
      "codemirror_mode": {
        "name": "ipython",
        "version": 3
      },
      "file_extension": ".py",
      "mimetype": "text/x-python",
      "name": "python",
      "nbconvert_exporter": "python",
      "pygments_lexer": "ipython3",
      "version": "3.9.7"
    },
    "colab": {
      "provenance": [],
      "include_colab_link": true
    }
  },
  "nbformat": 4,
  "nbformat_minor": 5
}